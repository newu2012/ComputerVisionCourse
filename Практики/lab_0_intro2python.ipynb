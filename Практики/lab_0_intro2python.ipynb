{
  "nbformat": 4,
  "nbformat_minor": 0,
  "metadata": {
    "kernelspec": {
      "display_name": "Python 3",
      "language": "python",
      "name": "python3"
    },
    "language_info": {
      "codemirror_mode": {
        "name": "ipython",
        "version": 3
      },
      "file_extension": ".py",
      "mimetype": "text/x-python",
      "name": "python",
      "nbconvert_exporter": "python",
      "pygments_lexer": "ipython3",
      "version": "3.5.4"
    },
    "colab": {
      "name": "lab_0_intro2python.ipynb",
      "provenance": []
    }
  },
  "cells": [
    {
      "cell_type": "markdown",
      "metadata": {
        "id": "4fNbqau8J2L4"
      },
      "source": [
        "# Введение в Python"
      ]
    },
    {
      "cell_type": "markdown",
      "metadata": {
        "id": "GXzKw8iYJ2L8"
      },
      "source": [
        "<font size=4 face = 'Calibri' >  \n",
        "Питон высокоурвневый интерпитируемый язык программирования со строгой динамической типизацией"
      ]
    },
    {
      "cell_type": "markdown",
      "metadata": {
        "id": "7NpsX_IiJ2L9"
      },
      "source": [
        "<font size=4 face = 'Calibri' >  \n",
        "    \n",
        "Jupyter - браузерная среда разработки на Python\n",
        "\n",
        "\n",
        "Также Jupyter поддерживает и иные интерпритируемые языки программирования "
      ]
    },
    {
      "cell_type": "markdown",
      "metadata": {
        "id": "vRtvYKNJJ2L-"
      },
      "source": [
        "<font size=4 face = 'Calibri' >  \n",
        "    \n",
        "\n",
        "в Jupyter весь код делится на ячейки, существует 4 типа ячеек:\n",
        "* код (code)\n",
        "* комментарий (markdown)\n",
        "* заголовок (header)\n",
        "* черновик (raw)"
      ]
    },
    {
      "cell_type": "code",
      "metadata": {
        "id": "2BAEjh20J2L_",
        "outputId": "aacb738f-6144-48c9-80d9-5a70de7fcfdc"
      },
      "source": [
        "''' пример ячейки кода с комментариями This is long coment'''\n",
        "print ('Hellow, world!') # this is short coment"
      ],
      "execution_count": null,
      "outputs": [
        {
          "name": "stdout",
          "output_type": "stream",
          "text": [
            "Hellow, world!\n"
          ]
        }
      ]
    },
    {
      "cell_type": "markdown",
      "metadata": {
        "id": "0NRTuTjNJ2MB"
      },
      "source": [
        "## Типы данных в  python"
      ]
    },
    {
      "cell_type": "code",
      "metadata": {
        "id": "XUL8Qn4mJ2MB",
        "outputId": "097c7a22-2b56-4199-f560-12e810725893"
      },
      "source": [
        "''' int '''\n",
        "myint = 7\n",
        "print(myint)"
      ],
      "execution_count": null,
      "outputs": [
        {
          "name": "stdout",
          "output_type": "stream",
          "text": [
            "7\n"
          ]
        }
      ]
    },
    {
      "cell_type": "code",
      "metadata": {
        "id": "pwmKfDASJ2MC",
        "outputId": "c3305329-f4c4-45a1-912a-ca90c41396b5"
      },
      "source": [
        "''' float '''\n",
        "myfloat = 7.0 # dot mean that you want float type \n",
        "print(myfloat)\n",
        "myfloat = float(7) # outher method for set float\n",
        "print(myfloat)"
      ],
      "execution_count": null,
      "outputs": [
        {
          "name": "stdout",
          "output_type": "stream",
          "text": [
            "7.0\n",
            "7.0\n"
          ]
        }
      ]
    },
    {
      "cell_type": "code",
      "metadata": {
        "id": "-Rowe9fgJ2MC",
        "outputId": "5fd4cfb5-1a13-4719-f163-329dd8ca9def"
      },
      "source": [
        "'''string '''\n",
        "mystring = 'hello'  # stirng of char variables can be set in ' <string>' form\n",
        "print(mystring)\n",
        "mystring = \"hello\"\n",
        "print(mystring)    # stirng of char variables can be set in \"<string>\"  form\n",
        "mystring = \"Don't worry about apostrophes if you use double apostrophes\"\n",
        "print(mystring)"
      ],
      "execution_count": null,
      "outputs": [
        {
          "name": "stdout",
          "output_type": "stream",
          "text": [
            "hello\n",
            "hello\n",
            "Don't worry about apostrophes\n"
          ]
        }
      ]
    },
    {
      "cell_type": "markdown",
      "metadata": {
        "id": "1jpu8GdfJ2MD"
      },
      "source": [
        "<font size=4 face = 'Calibri' >  \n",
        "простые операции"
      ]
    },
    {
      "cell_type": "code",
      "metadata": {
        "id": "Z_ByrJ2jJ2ME",
        "outputId": "51806e2d-51db-4f5f-beac-fa22ff18674c"
      },
      "source": [
        "\n",
        "one = 1\n",
        "two = 2\n",
        "three = one + two\n",
        "print(three)\n",
        "\n",
        "hello = \"hello\"\n",
        "world = \"world\"\n",
        "helloworld = hello + \" \" + world\n",
        "print(helloworld)"
      ],
      "execution_count": null,
      "outputs": [
        {
          "name": "stdout",
          "output_type": "stream",
          "text": [
            "3\n",
            "hello world\n"
          ]
        }
      ]
    },
    {
      "cell_type": "code",
      "metadata": {
        "scrolled": true,
        "id": "1TkkZaGcJ2ME",
        "outputId": "1ae670f5-9117-44e7-aead-8d9ec9acc588"
      },
      "source": [
        "a, b = 3, 4\n",
        "print(a,b)"
      ],
      "execution_count": null,
      "outputs": [
        {
          "name": "stdout",
          "output_type": "stream",
          "text": [
            "3 4\n"
          ]
        }
      ]
    },
    {
      "cell_type": "markdown",
      "metadata": {
        "id": "Y2SjzLlCJ2MF"
      },
      "source": [
        "## операции в Python"
      ]
    },
    {
      "cell_type": "markdown",
      "metadata": {
        "id": "PoYmCwRCJ2MF"
      },
      "source": [
        "### оперция if"
      ]
    },
    {
      "cell_type": "code",
      "metadata": {
        "id": "oRF4WM-QJ2MF",
        "outputId": "4e98aecc-6480-4b21-ef36-f6bb58f4f8e6"
      },
      "source": [
        "''' conditional operations could be implemented by operator if'''\n",
        "mystring = 'this is string'\n",
        "myint = 7\n",
        "myfloat = 7.9\n",
        "\n",
        "\n",
        "'''type operation return type of data\n",
        "   for separate subprogram use tabulation or 4 spaces\n",
        "   after operators like if use : to point where subprogram begin '''\n",
        "if type(mystring)==str:\n",
        "    print (mystring) # if mystring has strint type (str)\n",
        "\n",
        "# the level of indents point to the level of operation   \n",
        "print ('this will be printed in any case ')\n",
        "    \n"
      ],
      "execution_count": null,
      "outputs": [
        {
          "name": "stdout",
          "output_type": "stream",
          "text": [
            "this is string\n",
            "this will be printed in any case \n"
          ]
        }
      ]
    },
    {
      "cell_type": "code",
      "metadata": {
        "id": "XE6IrNAeJ2MF",
        "outputId": "f4c007cd-cde2-4b90-ff95-0d670dffc7fb"
      },
      "source": [
        "''' for multi conditions case you may use elif operator to switch between cases '''\n",
        "if type(myint)==str:\n",
        "    print (\" this condition coudn't be implemented\" )  \n",
        "elif type(myint)==int :\n",
        "    print (\"this integer number = \"+str(myint)) #operation str(x) return x of string type\n",
        "  \n",
        "\n",
        "    "
      ],
      "execution_count": null,
      "outputs": [
        {
          "name": "stdout",
          "output_type": "stream",
          "text": [
            "this integer number = 7\n"
          ]
        }
      ]
    },
    {
      "cell_type": "code",
      "metadata": {
        "id": "L3z3Ww3NJ2MG",
        "outputId": "b441174b-b5ef-47e0-8edd-807e7296d162"
      },
      "source": [
        "''' outher opertor is else '''\n",
        "if type(myfloat)==str:\n",
        "    print (\" this condition coudn't be implemented\" )  \n",
        "elif type(myfloat)==int :\n",
        "    print (\"this integer number = \"+str(myint))    \n",
        "else:\n",
        "    print (\"this float number = \"+str(myfloat))  "
      ],
      "execution_count": null,
      "outputs": [
        {
          "name": "stdout",
          "output_type": "stream",
          "text": [
            "this float number = 7.9\n"
          ]
        }
      ]
    },
    {
      "cell_type": "code",
      "metadata": {
        "id": "8jfde1jWJ2MG",
        "outputId": "82576b29-3546-4cca-e2c9-b3534877cfa8"
      },
      "source": [
        "if type(myint) and myint>6: # you may use a several conditions \n",
        "    print (myint)"
      ],
      "execution_count": null,
      "outputs": [
        {
          "name": "stdout",
          "output_type": "stream",
          "text": [
            "7\n"
          ]
        }
      ]
    },
    {
      "cell_type": "code",
      "metadata": {
        "scrolled": true,
        "id": "uZn1vZSNJ2MH",
        "outputId": "62ec0ac3-24f5-496f-b5f7-1e82551aa7ea"
      },
      "source": [
        "mystring = 'this is string'\n",
        " '''the long comments with oцn indentation call IndentationError'''\n",
        "print(mystring) "
      ],
      "execution_count": null,
      "outputs": [
        {
          "ename": "IndentationError",
          "evalue": "unexpected indent (<ipython-input-54-d275a939befd>, line 2)",
          "output_type": "error",
          "traceback": [
            "\u001b[1;36m  File \u001b[1;32m\"<ipython-input-54-d275a939befd>\"\u001b[1;36m, line \u001b[1;32m2\u001b[0m\n\u001b[1;33m    '''the long comments with oцn indentation call IndentationError'''\u001b[0m\n\u001b[1;37m    ^\u001b[0m\n\u001b[1;31mIndentationError\u001b[0m\u001b[1;31m:\u001b[0m unexpected indent\n"
          ]
        }
      ]
    },
    {
      "cell_type": "markdown",
      "metadata": {
        "id": "yk1R95-RJ2MH"
      },
      "source": [
        "## Упражнения\n",
        "\n",
        "создать строку, целое и цисло с плавоющей запятой. \n",
        "\n",
        "строка должна быть названа \"mystring\" и включать слово \"hello\".\n",
        "\n",
        "цисло с плавоющей запятой должно быть названо myfloat и быть равно 10.0.\n",
        "\n",
        "целое число должно быть названо myint и быть равно 20.\n",
        "\n"
      ]
    },
    {
      "cell_type": "code",
      "metadata": {
        "id": "8Wt1DxZeJ2MH"
      },
      "source": [
        "# change this code\n",
        "mystring = None\n",
        "myfloat = None\n",
        "myint = None\n",
        "\n",
        "# testing code\n",
        "if mystring == \"hello\":\n",
        "    print(\"String: %s\" % mystring)\n",
        "if isinstance(myfloat, float) and myfloat == 10.0:\n",
        "    print(\"Float: %f\" % myfloat)\n",
        "if isinstance(myint, int) and myint == 20:\n",
        "    print(\"Integer: %d\" % myint)"
      ],
      "execution_count": null,
      "outputs": []
    },
    {
      "cell_type": "markdown",
      "metadata": {
        "id": "QdEi059IJ2MI"
      },
      "source": [
        "# Типы данных многих переменных (массивы)"
      ]
    },
    {
      "cell_type": "markdown",
      "metadata": {
        "id": "5ANgZSQFJ2MI"
      },
      "source": [
        "<font size=4 face = 'Calibri' >    \n",
        "тип данных лист (список, list) - похож на массив в других языках программирования.\n",
        "    \n",
        "<font size=4 face = 'Calibri' >    \n",
        "Они могут содержать любой тип переменной, и они могут содержать столько переменных, сколько пожелаете.    \n",
        "<font size=4 face = 'Calibri' >    \n",
        "Ниже приведены примеры задания списков."
      ]
    },
    {
      "cell_type": "code",
      "metadata": {
        "id": "rYx8fTlsJ2MI",
        "outputId": "695812f9-1b44-470b-d98b-adf42f44a9bd"
      },
      "source": [
        "mylist = list()  # this mean empty list\n",
        "mylist.append(1) # each list has a number of methods\n",
        "mylist.append(2) # mthod append means that you want to add new element in list\n",
        "mylist.append(3)\n",
        "print(mylist[0]) # prints 1\n",
        "print(mylist[1]) # prints 2\n",
        "print(mylist[2]) # prints 3\n",
        "mylist.pop(0) # you may remove an element by this method, 0 means first element   \n",
        "print(mylist)\n",
        "mylist.pop() # without arguments you remove last element  \n",
        "print(mylist)\n",
        "\n",
        "mylist2=[] # squrebrakets is the alternative method for create a list\n",
        "mylist2.append('string_element1') # strings also can be separate elements\n",
        "mylist2.append('string_element2')\n",
        "print(mylist2)\n",
        "print([mylist,mylist2]) # you may set a list of lists"
      ],
      "execution_count": null,
      "outputs": [
        {
          "name": "stdout",
          "output_type": "stream",
          "text": [
            "1\n",
            "2\n",
            "3\n",
            "[2, 3]\n",
            "[2]\n",
            "['string_element1', 'string_element2']\n",
            "[[2], ['string_element1', 'string_element2']]\n"
          ]
        }
      ]
    },
    {
      "cell_type": "markdown",
      "metadata": {
        "id": "AN7uu03ZJ2MI"
      },
      "source": [
        "<font size=4 face = 'Calibri' >  \n",
        "Самые простые операции с листами могут быть проведены в циклах"
      ]
    },
    {
      "cell_type": "code",
      "metadata": {
        "id": "Xkk_gVazJ2MJ",
        "outputId": "ccc8ed2b-a7bc-4e3e-cf68-a1e7994b7f3a"
      },
      "source": [
        "# For is is the simple cycle \n",
        "for i in range(0,len(mylist),1):  #it means (i=0;i<length(mylist);i++)   \n",
        "    print(mylist[i]) # you may call each element of list by point it in square brakets []\n",
        "    \n",
        "    "
      ],
      "execution_count": null,
      "outputs": [
        {
          "name": "stdout",
          "output_type": "stream",
          "text": [
            "2\n"
          ]
        }
      ]
    },
    {
      "cell_type": "code",
      "metadata": {
        "id": "JFJU6rTPJ2MJ",
        "outputId": "ac2f4fcf-e210-4108-f2d6-e4415b8e4a3c"
      },
      "source": [
        "''' более простой путь работы со списком'''\n",
        "for x in mylist:   \n",
        "    print(x)"
      ],
      "execution_count": null,
      "outputs": [
        {
          "name": "stdout",
          "output_type": "stream",
          "text": [
            "2\n"
          ]
        }
      ]
    },
    {
      "cell_type": "code",
      "metadata": {
        "id": "XOP8KEQFJ2MJ",
        "outputId": "3ee63cbe-b043-4bb3-fcf9-324a683a1ba1"
      },
      "source": [
        "'''\n",
        "    пример неправильного доступа к элементами списка\n",
        "'''\n",
        "\n",
        "mylist = [1,2,3]\n",
        "print(mylist[10])\n"
      ],
      "execution_count": null,
      "outputs": [
        {
          "ename": "IndexError",
          "evalue": "list index out of range",
          "output_type": "error",
          "traceback": [
            "\u001b[1;31m---------------------------------------------------------------------------\u001b[0m",
            "\u001b[1;31mIndexError\u001b[0m                                Traceback (most recent call last)",
            "\u001b[1;32m<ipython-input-9-998c60738270>\u001b[0m in \u001b[0;36m<module>\u001b[1;34m\u001b[0m\n\u001b[0;32m      3\u001b[0m \u001b[1;33m\u001b[0m\u001b[0m\n\u001b[0;32m      4\u001b[0m \u001b[0mmylist\u001b[0m \u001b[1;33m=\u001b[0m \u001b[1;33m[\u001b[0m\u001b[1;36m1\u001b[0m\u001b[1;33m,\u001b[0m\u001b[1;36m2\u001b[0m\u001b[1;33m,\u001b[0m\u001b[1;36m3\u001b[0m\u001b[1;33m]\u001b[0m\u001b[1;33m\u001b[0m\u001b[0m\n\u001b[1;32m----> 5\u001b[1;33m \u001b[0mprint\u001b[0m\u001b[1;33m(\u001b[0m\u001b[0mmylist\u001b[0m\u001b[1;33m[\u001b[0m\u001b[1;36m10\u001b[0m\u001b[1;33m]\u001b[0m\u001b[1;33m)\u001b[0m\u001b[1;33m\u001b[0m\u001b[0m\n\u001b[0m",
            "\u001b[1;31mIndexError\u001b[0m: list index out of range"
          ]
        }
      ]
    },
    {
      "cell_type": "code",
      "metadata": {
        "id": "8YfP6OH5J2MJ",
        "outputId": "e90f0bd6-37ce-4d6c-b080-930a29b250f7"
      },
      "source": [
        "'''пример работы со срезами списка '''\n",
        "mylist = [1,2,3,4,5,6,7,8,9,10]\n",
        "print(mylist[0:3])\n",
        "print(mylist[1:3])"
      ],
      "execution_count": null,
      "outputs": [
        {
          "name": "stdout",
          "output_type": "stream",
          "text": [
            "[1, 2, 3]\n",
            "[2, 3]\n"
          ]
        }
      ]
    },
    {
      "cell_type": "code",
      "metadata": {
        "id": "L2Ru0-33J2MK",
        "outputId": "04f711b1-b4da-490f-be0f-7b24e0b6ce88"
      },
      "source": [
        "print(mylist[-1])    # -1 means that you want last element\n",
        "print(mylist[5:-1])  # the last element doesn't taken into account if you get a slice\n",
        "print(mylist[5:-2])  # this notation means that you want elements form 5 to -3"
      ],
      "execution_count": null,
      "outputs": [
        {
          "name": "stdout",
          "output_type": "stream",
          "text": [
            "10\n",
            "[6, 7, 8, 9]\n",
            "[6, 7, 8]\n"
          ]
        }
      ]
    },
    {
      "cell_type": "markdown",
      "metadata": {
        "id": "aLO5h0JCJ2MK"
      },
      "source": [
        "## Упражнения\n",
        "\n",
        "Добавить числа 1,2,3 и строки 'hello' и 'world' в соответствующие массивы используюя метод \"append\". \n",
        "\n",
        "также добавить в переменную name2 второй элемент из списка \n"
      ]
    },
    {
      "cell_type": "code",
      "metadata": {
        "id": "cLqGIJptJ2MK"
      },
      "source": [
        "numbers = []\n",
        "strings = []\n",
        "names = [\"John\", \"Eric\", \"Jessica\"]\n",
        "\n",
        "# write your code here\n",
        "name2 = None\n",
        "''' use the brackets operator [] for make access for list elements. \n",
        "    Note that the index is zero-based, \n",
        "    so if you want to access the second item in the list, its index will be 1.'''\n",
        "\n",
        "# this code should write out the filled arrays and the second name in the names list (Eric).\n",
        "print(numbers)\n",
        "print(strings)\n",
        "print(\"The second name on the names list is %s\" % name2) "
      ],
      "execution_count": null,
      "outputs": []
    },
    {
      "cell_type": "markdown",
      "metadata": {
        "id": "Eqesk0DKJ2MK"
      },
      "source": [
        "\n",
        "\n",
        "## Другие типы массивов в Питоне\n",
        "\n",
        "<font size=4 face = 'Calibri' > \n",
        "* tuple - неизменый тип\n",
        "* dictionary - содержит словари\n",
        "* set  - содержит только уникальные элементы."
      ]
    },
    {
      "cell_type": "code",
      "metadata": {
        "id": "E8I8n01nJ2MK",
        "outputId": "3c116cc9-f258-4ce4-8d24-437f7c078fe0"
      },
      "source": [
        "#tuple\n",
        "tuple_1 = tuple()\n",
        "tuple_1=(1,3,4)\n",
        "print(tuple_1)"
      ],
      "execution_count": null,
      "outputs": [
        {
          "name": "stdout",
          "output_type": "stream",
          "text": [
            "(1, 3, 4)\n"
          ]
        }
      ]
    },
    {
      "cell_type": "code",
      "metadata": {
        "id": "qceCyhE0J2MK",
        "outputId": "e6dbb3be-fbed-446f-f8ee-2b9d313a1beb"
      },
      "source": [
        "#if you  try to change tuple_1 element you get TypeError\n",
        "tuple_1[1]=tuple_1[1]+tuple_1[0]\n",
        "print(tuple_1)"
      ],
      "execution_count": null,
      "outputs": [
        {
          "ename": "TypeError",
          "evalue": "'tuple' object does not support item assignment",
          "output_type": "error",
          "traceback": [
            "\u001b[1;31m---------------------------------------------------------------------------\u001b[0m",
            "\u001b[1;31mTypeError\u001b[0m                                 Traceback (most recent call last)",
            "\u001b[1;32m<ipython-input-69-7e48418b7f58>\u001b[0m in \u001b[0;36m<module>\u001b[1;34m()\u001b[0m\n\u001b[0;32m      1\u001b[0m \u001b[1;31m#if you  try to change tuple_1 element\u001b[0m\u001b[1;33m\u001b[0m\u001b[1;33m\u001b[0m\u001b[0m\n\u001b[1;32m----> 2\u001b[1;33m \u001b[0mtuple_1\u001b[0m\u001b[1;33m[\u001b[0m\u001b[1;36m1\u001b[0m\u001b[1;33m]\u001b[0m\u001b[1;33m=\u001b[0m\u001b[0mtuple_1\u001b[0m\u001b[1;33m[\u001b[0m\u001b[1;36m1\u001b[0m\u001b[1;33m]\u001b[0m\u001b[1;33m+\u001b[0m\u001b[0mtuple_1\u001b[0m\u001b[1;33m[\u001b[0m\u001b[1;36m0\u001b[0m\u001b[1;33m]\u001b[0m\u001b[1;33m\u001b[0m\u001b[0m\n\u001b[0m\u001b[0;32m      3\u001b[0m \u001b[0mprint\u001b[0m\u001b[1;33m(\u001b[0m\u001b[0mtuple_1\u001b[0m\u001b[1;33m)\u001b[0m\u001b[1;33m\u001b[0m\u001b[0m\n",
            "\u001b[1;31mTypeError\u001b[0m: 'tuple' object does not support item assignment"
          ]
        }
      ]
    },
    {
      "cell_type": "code",
      "metadata": {
        "id": "bgYajl_zJ2ML",
        "outputId": "e931a5ab-8c00-4a31-8cc9-df780ffaa28f"
      },
      "source": [
        "set_1 =set()\n",
        "set1 = {1,2,3}\n",
        "print (set1)\n",
        "\n",
        "set2 = {1,1,1,1,2} # set can contain only  non-recurring elements\n",
        "print (set2)\n",
        "\n",
        "tup1=(1,1,1,1,2)\n",
        "set3= set(tup1)\n",
        "print (tup1)\n",
        "print (set3)\n",
        "\n"
      ],
      "execution_count": null,
      "outputs": [
        {
          "name": "stdout",
          "output_type": "stream",
          "text": [
            "{1, 2, 3}\n",
            "{1, 2}\n",
            "(1, 1, 1, 1, 2)\n",
            "{1, 2}\n"
          ]
        }
      ]
    },
    {
      "cell_type": "code",
      "metadata": {
        "id": "N7xo5RfkJ2ML",
        "outputId": "2c3d675a-d57d-4843-e48a-bf0ff63b93b3"
      },
      "source": [
        "dict_1 = dict()\n",
        "dict_1 = {'a':1,'b':2}\n",
        "print(dict_1)\n",
        "print(dict_1.keys())   # dictionary has keys \n",
        "print(dict_1.values()) # and values which can be get by corresponding methods\n",
        "\n",
        "print(dict_1['a']) # you may call elements by it keys\n",
        "\n",
        "dict_2 = {'a':1,'a':2} #dict is a kind of set with keys, and it can contain only non-recurring elements\n",
        "print(dict_2)"
      ],
      "execution_count": null,
      "outputs": [
        {
          "name": "stdout",
          "output_type": "stream",
          "text": [
            "{'b': 2, 'a': 1}\n",
            "dict_keys(['b', 'a'])\n",
            "dict_values([2, 1])\n",
            "1\n",
            "{'a': 2}\n"
          ]
        }
      ]
    },
    {
      "cell_type": "markdown",
      "metadata": {
        "id": "u_PSgm2bJ2ML"
      },
      "source": [
        "# Базовые операции"
      ]
    },
    {
      "cell_type": "markdown",
      "metadata": {
        "id": "P7rw0STyJ2ML"
      },
      "source": [
        "<font size=4 face = 'Calibri' > \n",
        "сумма, умножение, деление"
      ]
    },
    {
      "cell_type": "code",
      "metadata": {
        "id": "aAMyIjK6J2ML",
        "outputId": "0d5276ab-5946-44b2-df1a-f4ab98449c1f"
      },
      "source": [
        "number = 1 + 2 * 3 / 4.0\n",
        "print(number)"
      ],
      "execution_count": null,
      "outputs": [
        {
          "name": "stdout",
          "output_type": "stream",
          "text": [
            "2.5\n"
          ]
        }
      ]
    },
    {
      "cell_type": "markdown",
      "metadata": {
        "id": "DCvGxZr4J2MM"
      },
      "source": [
        "<font size=4 face = 'Calibri' > остаток от деления"
      ]
    },
    {
      "cell_type": "code",
      "metadata": {
        "id": "jR3SukSWJ2MM",
        "outputId": "578e6494-747b-407e-9ac8-0cafa0f9f441"
      },
      "source": [
        "remainder = 11 % 3\n",
        "print(remainder)"
      ],
      "execution_count": null,
      "outputs": [
        {
          "name": "stdout",
          "output_type": "stream",
          "text": [
            "2\n"
          ]
        }
      ]
    },
    {
      "cell_type": "markdown",
      "metadata": {
        "id": "oIxAO1H7J2MM"
      },
      "source": [
        "<font size=4 face = 'Calibri' > операция возведения в степень"
      ]
    },
    {
      "cell_type": "code",
      "metadata": {
        "id": "VRZ9hzP5J2MM",
        "outputId": "01c5786a-3c85-4c96-912b-2fc8c147ae3b"
      },
      "source": [
        "squared = 7 ** 2\n",
        "cubed = 2 ** 3\n",
        "print([squared,cubed] )"
      ],
      "execution_count": null,
      "outputs": [
        {
          "name": "stdout",
          "output_type": "stream",
          "text": [
            "[49, 8]\n"
          ]
        }
      ]
    },
    {
      "cell_type": "markdown",
      "metadata": {
        "id": "p4X_7GfwJ2MM"
      },
      "source": [
        "<font size=4 face = 'Calibri' > конкотенация (сложение) строк"
      ]
    },
    {
      "cell_type": "code",
      "metadata": {
        "id": "5VXzc8HbJ2MM",
        "outputId": "376b8a1c-f357-43e1-ff27-5c54b27494da"
      },
      "source": [
        "helloworld = \"hello\" + \" \" + \"world\"\n",
        "print(helloworld)"
      ],
      "execution_count": null,
      "outputs": [
        {
          "name": "stdout",
          "output_type": "stream",
          "text": [
            "hello world\n"
          ]
        }
      ]
    },
    {
      "cell_type": "markdown",
      "metadata": {
        "id": "VofdWhGvJ2MM"
      },
      "source": [
        "<font size=4 face = 'Calibri' > умножение строк"
      ]
    },
    {
      "cell_type": "code",
      "metadata": {
        "id": "zTrzGvMnJ2MN",
        "outputId": "b075ea31-f5f4-48b8-9297-64f27d614565"
      },
      "source": [
        "lotsofhellos = \"hello\" * 10\n",
        "print(lotsofhellos)"
      ],
      "execution_count": null,
      "outputs": [
        {
          "name": "stdout",
          "output_type": "stream",
          "text": [
            "hellohellohellohellohellohellohellohellohellohello\n"
          ]
        }
      ]
    },
    {
      "cell_type": "markdown",
      "metadata": {
        "id": "XhJjxNn1J2MN"
      },
      "source": [
        "<font size=4 face = 'Calibri' >  операции со списками"
      ]
    },
    {
      "cell_type": "code",
      "metadata": {
        "id": "IoJM7-izJ2MN",
        "outputId": "97c8cb91-6130-4e95-ae69-41a3eff84c89"
      },
      "source": [
        "even_numbers = [2,4,6,8]\n",
        "odd_numbers = [1,3,5,7]\n",
        "all_numbers = odd_numbers + even_numbers\n",
        "print(all_numbers)"
      ],
      "execution_count": null,
      "outputs": [
        {
          "name": "stdout",
          "output_type": "stream",
          "text": [
            "[1, 3, 5, 7, 2, 4, 6, 8]\n"
          ]
        }
      ]
    },
    {
      "cell_type": "markdown",
      "metadata": {
        "id": "ilcPAGpXJ2MN"
      },
      "source": [
        "<font size=4 face = 'Calibri' >  еще пример операций\n"
      ]
    },
    {
      "cell_type": "code",
      "metadata": {
        "id": "yXu4RoosJ2MN",
        "outputId": "c2d783c2-1d9c-4f31-d217-dccffa61efae"
      },
      "source": [
        "print([1,2,3] * 3)"
      ],
      "execution_count": null,
      "outputs": [
        {
          "name": "stdout",
          "output_type": "stream",
          "text": [
            "[1, 2, 3, 1, 2, 3, 1, 2, 3]\n"
          ]
        }
      ]
    },
    {
      "cell_type": "markdown",
      "metadata": {
        "id": "NPwoAdJHJ2MN"
      },
      "source": [
        "## Упражнения\n",
        "<font size=4 face = 'Calibri' > \n",
        "\n",
        "создать листы x_list и y_list, с 10 элементами  x и y.\n",
        " \n",
        " создать big_list, содержащий  x и y, 10 раз."
      ]
    },
    {
      "cell_type": "code",
      "metadata": {
        "id": "tj-dfuINJ2MN"
      },
      "source": [
        "x = object()\n",
        "y = object()\n",
        "\n",
        "# TODO: change this code\n",
        "x_list = [x]\n",
        "y_list = [y]\n",
        "big_list = []\n",
        "\n",
        "print(\"x_list contains %d objects\" % len(x_list))\n",
        "print(\"y_list contains %d objects\" % len(y_list))\n",
        "print(\"big_list contains %d objects\" % len(big_list))\n",
        "\n",
        "# testing code\n",
        "if x_list.count(x) == 10 and y_list.count(y) == 10:\n",
        "    print(\"Almost there...\")\n",
        "if big_list.count(x) == 10 and big_list.count(y) == 10:\n",
        "    print(\"Great!\")"
      ],
      "execution_count": null,
      "outputs": []
    },
    {
      "cell_type": "markdown",
      "metadata": {
        "id": "m46W3SWvJ2MO"
      },
      "source": [
        "# Форматирование строк"
      ]
    },
    {
      "cell_type": "markdown",
      "metadata": {
        "id": "GwlfE0rjJ2MO"
      },
      "source": [
        "<font size=4 face = 'Calibri' > \n",
        "Сиподобное форматирование (использование %)\n",
        "\n",
        "\n"
      ]
    },
    {
      "cell_type": "code",
      "metadata": {
        "id": "ZcOJMCCeJ2MO",
        "outputId": "917361c9-f5dc-4932-8719-24a8858fb7c5"
      },
      "source": [
        "# This prints out \"Hello, John!\"\n",
        "name = \"John\"\n",
        "print(\"Hello, %s!\" % name)"
      ],
      "execution_count": null,
      "outputs": [
        {
          "name": "stdout",
          "output_type": "stream",
          "text": [
            "Hello, John!\n"
          ]
        }
      ]
    },
    {
      "cell_type": "markdown",
      "metadata": {
        "id": "HXimnvTUJ2MO"
      },
      "source": [
        "<font size=4 face = 'Calibri' >  пример с несколькими аргументами"
      ]
    },
    {
      "cell_type": "code",
      "metadata": {
        "id": "r5e3dyS0J2MO",
        "outputId": "f3efd434-d8b6-4978-e982-bcc1588b78fc"
      },
      "source": [
        "# This prints out \"John is 23 years old.\"\n",
        "name = \"John\"\n",
        "age = 23\n",
        "print(\"%s is %d years old.\" % (name, age))"
      ],
      "execution_count": null,
      "outputs": [
        {
          "name": "stdout",
          "output_type": "stream",
          "text": [
            "John is 23 years old.\n"
          ]
        }
      ]
    },
    {
      "cell_type": "markdown",
      "metadata": {
        "id": "OHnhPAYCJ2MO"
      },
      "source": [
        "<font size=4 face = 'Calibri' >   пример со списком"
      ]
    },
    {
      "cell_type": "code",
      "metadata": {
        "id": "51vRf7GEJ2MP",
        "outputId": "b6d380fe-325f-4ed0-ad7a-958fb32f6c18"
      },
      "source": [
        "# This prints out: A list: [1, 2, 3]\n",
        "mylist = [1,2,3]\n",
        "print(\"A list: %s\" % mylist)"
      ],
      "execution_count": null,
      "outputs": [
        {
          "name": "stdout",
          "output_type": "stream",
          "text": [
            "A list: [1, 2, 3]\n"
          ]
        }
      ]
    },
    {
      "cell_type": "markdown",
      "metadata": {
        "id": "_y1PU3hMJ2MP"
      },
      "source": [
        "<font size=4 face = 'Calibri' >  \n",
        "базовые аргументы\n",
        "\n",
        "* %s - String \n",
        "\n",
        "* %d - Int\n",
        "\n",
        "* %f - Float \n",
        "\n",
        "* %.<number of digits>f - Float c числом знаков.\n",
        "\n"
      ]
    },
    {
      "cell_type": "code",
      "metadata": {
        "id": "5dWvU2xMJ2MP",
        "outputId": "0eb02c3a-f4d9-44c3-adb1-5c001ffa8c85"
      },
      "source": [
        "'''you may index string or take it length'''\n",
        "astring = \"Hello, world!\"\n",
        "\n",
        "print(len(astring)) \n",
        "print(astring.index(\"o\")) # Python start indexes at 0 instead of 1. So the index of \"o\" is 4 insted of 5.\n",
        "print(astring[0:5])       # last index doesn't taken into account\n",
        "print(astring[0:6:2])     # the step of slice can be pointed as third operator\n",
        "print(astring[::-1])      # you can also reverse string\n",
        "\n",
        "print(astring.upper())    # make string in upper cases\n",
        "print(astring.lower())\n",
        "\n",
        "print(astring.split(', ')) #also you make split string\n",
        "list1=['H','e','l','l','o']\n",
        "print(\"\".join(list1))     # or join list of char into string"
      ],
      "execution_count": null,
      "outputs": [
        {
          "name": "stdout",
          "output_type": "stream",
          "text": [
            "13\n",
            "4\n",
            "Hello\n",
            "Hlo\n",
            "!dlrow ,olleH\n",
            "HELLO, WORLD!\n",
            "hello, world!\n",
            "['Hello', 'world!']\n",
            "Hello\n"
          ]
        }
      ]
    },
    {
      "cell_type": "code",
      "metadata": {
        "id": "GgWVX6nuJ2MP",
        "outputId": "d091a666-9ac1-4a3a-e73b-6c0e73ffb69b"
      },
      "source": [
        "# Check how a string starts\n",
        "if astring.startswith(\"Hello\"):\n",
        "    print(\"String starts with 'Hello'. Good!\")\n",
        "\n",
        "# Check how a string ends\n",
        "if astring.endswith(\"world!\"):\n",
        "    print(\"String ends with 'world!'. Good!\")"
      ],
      "execution_count": null,
      "outputs": [
        {
          "name": "stdout",
          "output_type": "stream",
          "text": [
            "String starts with 'Hello'. Good!\n",
            "String ends with 'world!'. Good!\n"
          ]
        }
      ]
    },
    {
      "cell_type": "code",
      "metadata": {
        "id": "pqaJNXaDJ2MP",
        "outputId": "adb3d527-82ce-435f-e6c7-5c922fe4ca44"
      },
      "source": [
        "a = input() # by this command you may ask to put a string  \n",
        "#press \"enter\" after you finish "
      ],
      "execution_count": null,
      "outputs": [
        {
          "name": "stdout",
          "output_type": "stream",
          "text": [
            "д\n"
          ]
        }
      ]
    },
    {
      "cell_type": "code",
      "metadata": {
        "id": "5mMxAv8_J2MQ",
        "outputId": "be059267-37d8-441b-e5b3-8a9189313df7"
      },
      "source": [
        "print(a) #try what you input"
      ],
      "execution_count": null,
      "outputs": [
        {
          "name": "stdout",
          "output_type": "stream",
          "text": [
            "д\n"
          ]
        }
      ]
    },
    {
      "cell_type": "markdown",
      "metadata": {
        "id": "RsEwA98bJ2MQ"
      },
      "source": [
        "## Упражнение\n",
        "\n",
        "записать строку, которая выводит \"Hello John Doe,. Your current balance is $53.44.\" используя строку Hello \n"
      ]
    },
    {
      "cell_type": "code",
      "metadata": {
        "id": "XOC9zdNtJ2MQ"
      },
      "source": [
        "data = (\"John\", \"Doe\", 53.44)\n",
        "format_string = \"Hello\"\n",
        "\n",
        "print(format_string % data)"
      ],
      "execution_count": null,
      "outputs": []
    },
    {
      "cell_type": "markdown",
      "metadata": {
        "id": "1YnRsIccJ2MQ"
      },
      "source": [
        "## Упражнение\n",
        "\n",
        "исправить ошибку в коде\n"
      ]
    },
    {
      "cell_type": "code",
      "metadata": {
        "id": "Q4wyde6VJ2MQ"
      },
      "source": [
        "s = \"Hey there! what should this string be?\"\n",
        "# Length should be 20\n",
        "print(\"Length of s = %d\" % len(s))\n",
        "\n",
        "# First occurrence of \"a\" should be at index 8\n",
        "print(\"The first occurrence of the letter a = %d\" % s.index(\"a\"))\n",
        "\n",
        "# Number of a's should be 2\n",
        "print(\"a occurs %d times\" % s.count(\"a\"))\n",
        "\n",
        "# Slicing the string into bits\n",
        "print(\"The first five characters are '%s'\" % s[:5]) # Start to 5\n",
        "print(\"The next five characters are '%s'\" % s[5:10]) # 5 to 10\n",
        "print(\"The thirteenth character is '%s'\" % s[12]) # Just number 12\n",
        "print(\"The characters with odd index are '%s'\" %s[1::2]) #(0-based indexing)\n",
        "print(\"The last five characters are '%s'\" % s[-5:]) # 5th-from-last to end\n",
        "\n",
        "# Convert everything to uppercase\n",
        "print(\"String in uppercase: %s\" % s.upper())\n",
        "\n",
        "# Convert everything to lowercase\n",
        "print(\"String in lowercase: %s\" % s.lower())\n",
        "\n",
        "# Check how a string starts\n",
        "if s.startswith(\"Str\"):\n",
        "    print(\"String starts with 'Str'. Good!\")\n",
        "\n",
        "# Check how a string ends\n",
        "if s.endswith(\"ome!\"):\n",
        "    print(\"String ends with 'ome!'. Good!\")\n",
        "\n",
        "# Split the string into three separate strings,\n",
        "# each containing only a word\n",
        "print(\"Split the words of the string: %s\" % s.split(\" \"))"
      ],
      "execution_count": null,
      "outputs": []
    },
    {
      "cell_type": "markdown",
      "metadata": {
        "id": "li1Y0ZpGJ2MQ"
      },
      "source": [
        "# Функции"
      ]
    },
    {
      "cell_type": "markdown",
      "metadata": {
        "id": "SNN9lC0tJ2MR"
      },
      "source": [
        "<font size=4 face = 'Calibri' > функции позволяют упрощать код и делить его на блоки.\n",
        "\n",
        "\n"
      ]
    },
    {
      "cell_type": "markdown",
      "metadata": {
        "id": "c0FiTgP5J2MR"
      },
      "source": [
        "<font size=4 face = 'Calibri' >\n",
        "Блок функции имеет следующий формат\n",
        "\n",
        "\n",
        "* def block_head(arguments):\n",
        "      1st block line\n",
        "      2nd block line\n",
        "      ...     \n",
        "      return outputs  \n",
        "\n",
        "* где \n",
        "        def - оператор объявления функции \n",
        "        после проблеа идет название функции, \n",
        "        аргументы в скобках \n",
        "        двоеточие, для обозначения начала блока\n",
        "        вконце блока может быть оператор return для описания того, что функция возвращает\n",
        "\n",
        "каждый блок дложен иметь отстутп, равный 4 проблеам\n",
        "\n"
      ]
    },
    {
      "cell_type": "code",
      "metadata": {
        "id": "kIZVJ9qZJ2MR"
      },
      "source": [
        "'''function without arguments '''\n",
        "def my_function():\n",
        "    print(\"Hello From My Function!\")"
      ],
      "execution_count": null,
      "outputs": []
    },
    {
      "cell_type": "markdown",
      "metadata": {
        "id": "eFYUDXWVJ2MR"
      },
      "source": [
        "<font size=4 face = 'Calibri' >пример вызова функции без аргументов\n"
      ]
    },
    {
      "cell_type": "code",
      "metadata": {
        "id": "b40IFx8vJ2MR",
        "outputId": "e8bcbc04-c9c8-4e8b-c718-7b042e817fda"
      },
      "source": [
        "my_function()"
      ],
      "execution_count": null,
      "outputs": [
        {
          "name": "stdout",
          "output_type": "stream",
          "text": [
            "Hello From My Function!\n"
          ]
        }
      ]
    },
    {
      "cell_type": "code",
      "metadata": {
        "id": "l0TPRs0aJ2MR"
      },
      "source": [
        "'''the function with arguments'''\n",
        "def my_function_with_args(username, greeting):\n",
        "    print(\"Hello, %s , From My Function!, I wish you %s\"%(username, greeting))"
      ],
      "execution_count": null,
      "outputs": []
    },
    {
      "cell_type": "code",
      "metadata": {
        "id": "IsZWmd_gJ2MR",
        "outputId": "53d64bc4-748d-4aec-de92-b8341b224e8a"
      },
      "source": [
        "my_function_with_args('USER','HELLOW')"
      ],
      "execution_count": null,
      "outputs": [
        {
          "name": "stdout",
          "output_type": "stream",
          "text": [
            "Hello, USER , From My Function!, I wish you HELLOW\n"
          ]
        }
      ]
    },
    {
      "cell_type": "markdown",
      "metadata": {
        "id": "2Gr0YhzhJ2MS"
      },
      "source": [
        "<font size=4 face = 'Calibri' >пример функции с аргументами"
      ]
    },
    {
      "cell_type": "code",
      "metadata": {
        "id": "_SziOE13J2MS"
      },
      "source": [
        "def sum_two_numbers(a, b):\n",
        "    return a + b"
      ],
      "execution_count": null,
      "outputs": []
    },
    {
      "cell_type": "code",
      "metadata": {
        "id": "zppvrjX3J2MS",
        "outputId": "52302582-7969-48ac-e48e-687ad2cbe6f5"
      },
      "source": [
        "\"\"\"let's try to get an answer\"\"\"\n",
        "\n",
        "c = sum_two_numbers(1,1)\n",
        "print('This is your answer, %i' %c)"
      ],
      "execution_count": null,
      "outputs": [
        {
          "name": "stdout",
          "output_type": "stream",
          "text": [
            "This is your answer, 2\n"
          ]
        }
      ]
    },
    {
      "cell_type": "markdown",
      "metadata": {
        "id": "8i8IeR2hJ2MS"
      },
      "source": [
        "<font size=4 face = 'Calibri' >можно также указывать тип данных (для удобстава, необязательно!)"
      ]
    },
    {
      "cell_type": "code",
      "metadata": {
        "id": "r587ZyoIJ2MS",
        "outputId": "83f88d39-8aa1-4bf5-f9e7-e6ace978f7a6"
      },
      "source": [
        "def sum_two_numbers_types(a:int, b:int)->int:\n",
        "    return a + b\n",
        "\n",
        "c = sum_two_numbers_types(1,1.5)\n",
        "print('This is your answer, %.1f' %c)\n"
      ],
      "execution_count": null,
      "outputs": [
        {
          "name": "stdout",
          "output_type": "stream",
          "text": [
            "This is your answer, 2.5\n"
          ]
        }
      ]
    },
    {
      "cell_type": "markdown",
      "metadata": {
        "id": "F4b0RBUYJ2MS"
      },
      "source": [
        "## Упражнение"
      ]
    },
    {
      "cell_type": "markdown",
      "metadata": {
        "id": "TkrhYxOrJ2MS"
      },
      "source": [
        "\n",
        "1. создать функцию list_benefits() возращающую строки: \"More organized code\", \"More readable code\", \"Easier code reuse\", \"Allowing programmers to share and connect code together\"\n",
        "\n",
        "\n",
        "2. создать функцию build_sentence(info) с аргументом типа string и возвращающую предложение, начинающееся с входной строки и заканчивающееся \" is a benefit of functions!\"\n"
      ]
    },
    {
      "cell_type": "code",
      "metadata": {
        "id": "kLFEPAy5J2MT"
      },
      "source": [
        "# Modify this function to return a list of strings as defined above\n",
        "def list_benefits():\n",
        "    pass\n",
        "\n",
        "# Modify this function to concatenate to each benefit - \" is a benefit of functions!\"\n",
        "def build_sentence(benefit):\n",
        "    pass\n",
        "\n",
        "def name_the_benefits_of_functions():\n",
        "    list_of_benefits = list_benefits()\n",
        "    for benefit in list_of_benefits:\n",
        "        print(build_sentence(benefit))\n",
        "\n",
        "name_the_benefits_of_functions()"
      ],
      "execution_count": null,
      "outputs": []
    },
    {
      "cell_type": "markdown",
      "metadata": {
        "id": "STgehWAvJ2MT"
      },
      "source": [
        "# Циклы"
      ]
    },
    {
      "cell_type": "markdown",
      "metadata": {
        "id": "MRIG7EqxJ2MT"
      },
      "source": [
        "<font size=4 face = 'Calibri' >В питоне два основных типа циклов for и loop"
      ]
    },
    {
      "cell_type": "code",
      "metadata": {
        "id": "Qc3AjiJxJ2MT",
        "outputId": "94022a47-4d66-4d53-8f25-bd0f30e83db2"
      },
      "source": [
        "'''range with one argument menas the range from 0 to argument value-1'''\n",
        "for i in range(5):\n",
        "    print('first  loop step %i'%i)\n",
        "\n",
        "'''range with two arguments menas the range from first to  second argument value-1'''    \n",
        "for i in range(9,12):\n",
        "    print('\\t second loop step %i'%i) # \\t means one tabulated indent\n",
        "\n",
        "'''range with three arguments menas the range from first to second argument value-1 with step equal to the third elemts'''     \n",
        "for i in range(15,30,5):\n",
        "    print('\\t\\t third  loop step %i'%i)    \n"
      ],
      "execution_count": null,
      "outputs": [
        {
          "name": "stdout",
          "output_type": "stream",
          "text": [
            "first  loop step 0\n",
            "first  loop step 1\n",
            "first  loop step 2\n",
            "first  loop step 3\n",
            "first  loop step 4\n",
            "\t second loop step 9\n",
            "\t second loop step 10\n",
            "\t second loop step 11\n",
            "\t\t third  loop step 15\n",
            "\t\t third  loop step 20\n",
            "\t\t third  loop step 25\n"
          ]
        }
      ]
    },
    {
      "cell_type": "markdown",
      "metadata": {
        "id": "a1STidQFJ2MT"
      },
      "source": [
        "<font size=4 face = 'Calibri' >циклы могут переберать элементы списков напрямую"
      ]
    },
    {
      "cell_type": "code",
      "metadata": {
        "id": "TSfHVWJYJ2MT",
        "outputId": "5891e0bf-c121-4960-eb25-9ebd822b7af7"
      },
      "source": [
        "a = [0,1,2,'a',[0,12],{'a':1,'b':2}]\n",
        "\n",
        "for ai in a:\n",
        "    print ('the current element of list: '+str(ai))"
      ],
      "execution_count": null,
      "outputs": [
        {
          "name": "stdout",
          "output_type": "stream",
          "text": [
            "the current element of list: 0\n",
            "the current element of list: 1\n",
            "the current element of list: 2\n",
            "the current element of list: a\n",
            "the current element of list: [0, 12]\n",
            "the current element of list: {'a': 1, 'b': 2}\n"
          ]
        }
      ]
    },
    {
      "cell_type": "markdown",
      "metadata": {
        "id": "SwP0n5p8J2MT"
      },
      "source": [
        "<font size=4 face = 'Calibri' >можно также переберать одновременно елементы списка и их номера"
      ]
    },
    {
      "cell_type": "code",
      "metadata": {
        "id": "j8ZtpMDgJ2MU",
        "outputId": "c1b0142a-efb1-400d-fbe8-52c4aa4375d4"
      },
      "source": [
        "a = ['a','b','c']\n",
        "b = ['12','13','14','15']\n",
        "\n",
        "''' enumerate list elements by function enumerate() and print it indexes  '''\n",
        "for i,ai in enumerate(a):\n",
        "    print ('the current element of list: '+str(ai)+' has index '+str(i))\n",
        "\n",
        "\n",
        "\n"
      ],
      "execution_count": null,
      "outputs": [
        {
          "name": "stdout",
          "output_type": "stream",
          "text": [
            "the current element of list: a has index 0\n",
            "the current element of list: b has index 1\n",
            "the current element of list: c has index 2\n"
          ]
        }
      ]
    },
    {
      "cell_type": "code",
      "metadata": {
        "id": "Ju5qmY0ZJ2MU",
        "outputId": "625e7a35-a698-446c-ee89-f61e0bc38a9b"
      },
      "source": [
        "print('\\n lists \\n') # sing \\n means start for a new string\n",
        "\n",
        "'''  union a several of lists by function zip() '''    \n",
        "for ai,bi in zip(a,b):\n",
        "    print ('* the current element of first list: '+str(ai)+'\\n'+'* \\t the current element of second list: '+str(bi))\n",
        "\n"
      ],
      "execution_count": null,
      "outputs": [
        {
          "name": "stdout",
          "output_type": "stream",
          "text": [
            "\n",
            " lists \n",
            "\n",
            "* the current element of first list: a\n",
            "* \t the current element of second list: 12\n",
            "* the current element of first list: b\n",
            "* \t the current element of second list: 13\n",
            "* the current element of first list: c\n",
            "* \t the current element of second list: 14\n"
          ]
        }
      ]
    },
    {
      "cell_type": "code",
      "metadata": {
        "id": "Kkxyc6O1J2MU",
        "outputId": "ebfe0d75-4e20-4d69-887c-e40beb4c353c"
      },
      "source": [
        "print('\\n list and tuple \\n')\n",
        "\n",
        "c=('x','y','z')  #tuple\n",
        "'''  union a  list and a tuple by function zip() '''    \n",
        "for ai,ci in zip(a,c):\n",
        "    print ('* the current element of list: '+str(ai)+'\\n'+'* \\t the current element of tuple: '+str(ci))\n",
        "    \n",
        "    \n"
      ],
      "execution_count": null,
      "outputs": [
        {
          "name": "stdout",
          "output_type": "stream",
          "text": [
            "\n",
            " list and tuple \n",
            "\n",
            "* the current element of list: a\n",
            "* \t the current element of tuple: x\n",
            "* the current element of list: b\n",
            "* \t the current element of tuple: y\n",
            "* the current element of list: c\n",
            "* \t the current element of tuple: z\n"
          ]
        }
      ]
    },
    {
      "cell_type": "code",
      "metadata": {
        "id": "AiqyEFB2J2MU",
        "outputId": "6aa97ef5-aaa5-48e0-946f-ab539cdfb259"
      },
      "source": [
        "print('\\n list and dictionary \\n')\n",
        "\n",
        "d={'x':1,'y':2,'z':3 } #dictionary\n",
        "\n",
        "'''  union a  list and a dictionary items by function zip() '''    \n",
        "for ai,di in zip(a,d.items()):  # method items for dictionary return a list of tuples in form: [(key, value) ... ]\n",
        "    print ('* the current element of list: '+str(ai)+'\\n'+'* \\t the current element of dict: '+str(di))    "
      ],
      "execution_count": null,
      "outputs": [
        {
          "name": "stdout",
          "output_type": "stream",
          "text": [
            "\n",
            " list and dictionary \n",
            "\n",
            "* the current element of list: a\n",
            "* \t the current element of dict: ('z', 3)\n",
            "* the current element of list: b\n",
            "* \t the current element of dict: ('x', 1)\n",
            "* the current element of list: c\n",
            "* \t the current element of dict: ('y', 2)\n"
          ]
        }
      ]
    },
    {
      "cell_type": "markdown",
      "metadata": {
        "id": "bLQCxiHaJ2MU"
      },
      "source": [
        "пример работы while"
      ]
    },
    {
      "cell_type": "code",
      "metadata": {
        "id": "54oxqOKfJ2MU",
        "outputId": "95513afb-45d7-418e-c213-26384a00f27d"
      },
      "source": [
        "count = 0\n",
        "while count < 5:\n",
        "    print(count)\n",
        "    count += 1  # This is the same as count = count + 1"
      ],
      "execution_count": null,
      "outputs": [
        {
          "name": "stdout",
          "output_type": "stream",
          "text": [
            "0\n",
            "1\n",
            "2\n",
            "3\n",
            "4\n"
          ]
        }
      ]
    },
    {
      "cell_type": "markdown",
      "metadata": {
        "id": "puabiCEfJ2MV"
      },
      "source": [
        "<font size=4 face = 'Calibri' >пример использования  операций остановки и продолжения в циклах \n"
      ]
    },
    {
      "cell_type": "code",
      "metadata": {
        "id": "i2zQppyRJ2MV",
        "outputId": "4888b1b6-8888-4410-ed81-086fd1b3aa85"
      },
      "source": [
        "count = 0\n",
        "while True: # this condition my seemed to be always true, \n",
        "            # but we can stop loop by using break with some condition\n",
        "    print(count)\n",
        "    count += 1\n",
        "    \n",
        "    '''condition for stop loop if count exceed 5'''\n",
        "    if count >= 5:  \n",
        "        break\n",
        "print('\\n')\n",
        "\n",
        "\n",
        "# Prints out only odd numbers - 1,3,5,7,9\n",
        "for x in range(10):\n",
        "    \n",
        "    # Check if x is even\n",
        "    #condition for continue subprogram for this cycle \n",
        "    if x % 2 == 0:\n",
        "        continue  # if x is odd program will return to the start of cycle\n",
        "    print(x) "
      ],
      "execution_count": null,
      "outputs": [
        {
          "name": "stdout",
          "output_type": "stream",
          "text": [
            "0\n",
            "1\n",
            "2\n",
            "3\n",
            "4\n",
            "\n",
            "\n",
            "1\n",
            "3\n",
            "5\n",
            "7\n",
            "9\n"
          ]
        }
      ]
    },
    {
      "cell_type": "markdown",
      "metadata": {
        "id": "HGiLtXxWJ2MV"
      },
      "source": [
        "<font size=4 face = 'Calibri' >пример использования оператора else c циклом"
      ]
    },
    {
      "cell_type": "code",
      "metadata": {
        "id": "qLaUjr-rJ2MV",
        "outputId": "30d5be3d-bf88-4582-9958-a5b329c82843"
      },
      "source": [
        "# Prints out 0,1,2,3,4 and then it prints \"count value reached 5\"\n",
        "\n",
        "count=0\n",
        "while(count<5):\n",
        "    print(count)\n",
        "    count +=1\n",
        "else:\n",
        "    print(\"count value reached %d\" %(count))\n",
        "\n",
        "    print('\\n')\n",
        "# Prints out 1,2,3,4\n",
        "for i in range(1, 10):\n",
        "    if(i%5==0):\n",
        "        break\n",
        "    print(i)\n",
        "else:\n",
        "    print(\"this is not printed because for loop is terminated because of break but not due to fail in condition\")"
      ],
      "execution_count": null,
      "outputs": [
        {
          "name": "stdout",
          "output_type": "stream",
          "text": [
            "0\n",
            "1\n",
            "2\n",
            "3\n",
            "4\n",
            "count value reached 5\n",
            "\n",
            "\n",
            "1\n",
            "2\n",
            "3\n",
            "4\n"
          ]
        }
      ]
    },
    {
      "cell_type": "markdown",
      "metadata": {
        "id": "bGyG3y7TJ2MV"
      },
      "source": [
        "## Упражнение"
      ]
    },
    {
      "cell_type": "markdown",
      "metadata": {
        "id": "QKLiwLaPJ2MW"
      },
      "source": [
        "<font size=4 face = 'Calibri' >написать функцию выводяющую четные числа из заданного массива пока не будет достигнуто число 237"
      ]
    },
    {
      "cell_type": "code",
      "metadata": {
        "id": "CufKQqTtJ2MW"
      },
      "source": [
        "numbers = [\n",
        "    951, 402, 984, 651, 360, 69, 408, 319, 601, 485, 980, 507, 725, 547, 544,\n",
        "    615, 83, 165, 141, 501, 263, 617, 865, 575, 219, 390, 984, 592, 236, 105, 942, 941,\n",
        "    386, 462, 47, 418, 907, 344, 236, 375, 823, 566, 597, 978, 328, 615, 953, 345,\n",
        "    399, 162, 758, 219, 918, 237, 412, 566, 826, 248, 866, 950, 626, 949, 687, 217,\n",
        "    815, 67, 104, 58, 512, 24, 892, 894, 767, 553, 81, 379, 843, 831, 445, 742, 717,\n",
        "    958, 609, 842, 451, 688, 753, 854, 685, 93, 857, 440, 380, 126, 721, 328, 753, 470,\n",
        "    743, 527\n",
        "]\n",
        "\n",
        "#type your program below\n",
        "\n",
        " \n",
        "#don't forget to check the results"
      ],
      "execution_count": null,
      "outputs": []
    },
    {
      "cell_type": "markdown",
      "metadata": {
        "id": "SqgExv1CJ2MX"
      },
      "source": [
        "# Модули в питоне"
      ]
    },
    {
      "cell_type": "markdown",
      "metadata": {
        "id": "1dhcpe_jJ2MX"
      },
      "source": [
        "<font size=4 face = 'Calibri' >питон позволяет работать с модулями (библиотеками) как с классами или функциями"
      ]
    },
    {
      "cell_type": "code",
      "metadata": {
        "id": "fqui6k67J2MX"
      },
      "source": [
        "# you may import each module by macros import \n",
        "#modules  can be imported with assigning them some pseudonims \n",
        "import  cmath as cm\n",
        "import functools as ft\n",
        "\n",
        "#or you may import midules without this one\n",
        "import  json\n",
        "\n",
        "#in additional you may import submodules by macros  from\n",
        "import os\n",
        "from os import path\n",
        "\n",
        "#also you may import all submodules and functions from one module\n",
        "from os import *\n"
      ],
      "execution_count": null,
      "outputs": []
    },
    {
      "cell_type": "markdown",
      "metadata": {
        "id": "DLOwLStdJ2MX"
      },
      "source": [
        "<font size=4 face = 'Calibri' >пример работы с вызыванными модулями"
      ]
    },
    {
      "cell_type": "code",
      "metadata": {
        "id": "asuvWtP4J2MX",
        "outputId": "e7cdc811-767d-4d7d-dc22-200919c3edf5"
      },
      "source": [
        "r=10 # complex number module\n",
        "phi=cm.pi/3  #phase\n",
        "c = cm.rect(r, phi) # retuen complex number\n",
        "print(c)\n",
        "\n",
        "z=10+10j # create complex number\n",
        "print(cm.phase(z)) #return the phase of complex number"
      ],
      "execution_count": null,
      "outputs": [
        {
          "name": "stdout",
          "output_type": "stream",
          "text": [
            "(5.000000000000001+8.660254037844386j)\n",
            "0.7853981633974483\n"
          ]
        }
      ]
    },
    {
      "cell_type": "code",
      "metadata": {
        "id": "yKTRdW6uJ2MX",
        "outputId": "05ddc1d2-3472-4cee-a814-e547afde98a3"
      },
      "source": [
        "c =json.dumps([1,2,3,{'4': 5, '6': 7}], separators=(',', ':'))\n",
        "\n",
        "print('type of the json.dumps output is %s'%type(c))  # check the type of output\n",
        "print()\n",
        "print((c))\n",
        "\n",
        "print()\n",
        "c =json.dumps([1,2,3,{'4': 5, '6': 7}], separators=('!', '@'))\n",
        "print((c))\n",
        "print()\n",
        "print(json.dumps({\"c\": 0, \"b\": 0, \"a\": 0}, sort_keys=True))"
      ],
      "execution_count": null,
      "outputs": [
        {
          "name": "stdout",
          "output_type": "stream",
          "text": [
            "type of the json.dumps output is <class 'str'>\n",
            "\n",
            "[1,2,3,{\"6\":7,\"4\":5}]\n",
            "\n",
            "[1!2!3!{\"6\"@7!\"4\"@5}]\n",
            "\n",
            "{\"a\": 0, \"b\": 0, \"c\": 0}\n"
          ]
        }
      ]
    },
    {
      "cell_type": "markdown",
      "metadata": {
        "id": "2KxEeEMfJ2MX"
      },
      "source": [
        "## Упражнение "
      ]
    },
    {
      "cell_type": "markdown",
      "metadata": {
        "id": "mv8YbP-DJ2MY"
      },
      "source": [
        "<font size=4 face = 'Calibri' >вызвать модуль math с псевдонимом mt и вывести на экрна число pi из данного модуля"
      ]
    },
    {
      "cell_type": "code",
      "metadata": {
        "id": "nb2xApkjJ2MY"
      },
      "source": [
        "#place your code here"
      ],
      "execution_count": null,
      "outputs": []
    },
    {
      "cell_type": "code",
      "metadata": {
        "id": "JhghdYUEJ2MY"
      },
      "source": [
        ""
      ],
      "execution_count": null,
      "outputs": []
    },
    {
      "cell_type": "markdown",
      "metadata": {
        "id": "5Y5l8Gt7J2MY"
      },
      "source": [
        "# Генераторы"
      ]
    },
    {
      "cell_type": "markdown",
      "metadata": {
        "id": "ElMslikEJ2MY"
      },
      "source": [
        "<font size=4 face = 'Calibri' > генераторы - специальный тип процедур в Питоне, позволяющий вызывать условно следующие объекты каждый раз при вызове генераторы"
      ]
    },
    {
      "cell_type": "code",
      "metadata": {
        "id": "ju_Y6ktdJ2MY",
        "outputId": "98e69632-7143-4307-8a25-9fb3f31e466e"
      },
      "source": [
        "a=range(100)\n",
        "\n",
        "def genetor_f():\n",
        "    # returns 6 numbers \n",
        "    for i in range(6):\n",
        "        yield a[i]\n",
        "    # returns a 7th \n",
        "    yield a[-1]\n",
        "\n",
        "# this cycle decide how many values form genetor_function will be taken \n",
        "for number in genetor_f():\n",
        "       print(\"And the next number is... %d!\" %(number))\n",
        "        \n",
        "''' the generators can be set with arguments '''        \n",
        "def genetor_f(scale:int)->int:\n",
        "    for i in range(6):\n",
        "        yield a[i]*scale\n",
        "        \n",
        "        \n",
        "print()\n",
        "# this cycle decide how many values form genetor_function will be taken \n",
        "for number in genetor_f(2):\n",
        "       print(\"And the next number is... %d!\" %(number))        \n",
        "\n",
        "        \n",
        "''' the generators can return more than one value '''        \n",
        "def genetor_f():\n",
        "    for i in range(1,len(a),2):\n",
        "        yield a[i-1],a[i]\n",
        "        \n",
        "print()\n",
        "# this cycle decide how many values form genetor_function will be taken \n",
        "for i,(number1,number2) in enumerate(genetor_f()):\n",
        "       print(\"%d, And the next numbers are... %d , and %d !\" %(i,number1,number2)) \n",
        "       if (i>=9):\n",
        "        break;"
      ],
      "execution_count": null,
      "outputs": [
        {
          "name": "stdout",
          "output_type": "stream",
          "text": [
            "And the next number is... 0!\n",
            "And the next number is... 1!\n",
            "And the next number is... 2!\n",
            "And the next number is... 3!\n",
            "And the next number is... 4!\n",
            "And the next number is... 5!\n",
            "And the next number is... 99!\n",
            "\n",
            "And the next number is... 0!\n",
            "And the next number is... 2!\n",
            "And the next number is... 4!\n",
            "And the next number is... 6!\n",
            "And the next number is... 8!\n",
            "And the next number is... 10!\n",
            "\n",
            "0, And the next numbers are... 0 , and 1 !\n",
            "1, And the next numbers are... 2 , and 3 !\n",
            "2, And the next numbers are... 4 , and 5 !\n",
            "3, And the next numbers are... 6 , and 7 !\n",
            "4, And the next numbers are... 8 , and 9 !\n",
            "5, And the next numbers are... 10 , and 11 !\n",
            "6, And the next numbers are... 12 , and 13 !\n",
            "7, And the next numbers are... 14 , and 15 !\n",
            "8, And the next numbers are... 16 , and 17 !\n",
            "9, And the next numbers are... 18 , and 19 !\n"
          ]
        }
      ]
    },
    {
      "cell_type": "markdown",
      "metadata": {
        "id": "gveobntMJ2MY"
      },
      "source": [
        "<font size=4 face = 'Calibri' > также генераторы (альтернативный вызов)"
      ]
    },
    {
      "cell_type": "code",
      "metadata": {
        "id": "MD8yovF8J2MY",
        "outputId": "47eb16a6-8058-4e0d-d9f8-e26a32bc95e3"
      },
      "source": [
        "a=range(300)\n",
        "c=(ai for ai in a if ai<10)\n",
        "\n",
        "for number in c:\n",
        "    print(\"And the next number is... %d!\" %(number)) \n",
        "    "
      ],
      "execution_count": null,
      "outputs": [
        {
          "name": "stdout",
          "output_type": "stream",
          "text": [
            "And the next number is... 0!\n",
            "And the next number is... 1!\n",
            "And the next number is... 2!\n",
            "And the next number is... 3!\n",
            "And the next number is... 4!\n",
            "And the next number is... 5!\n",
            "And the next number is... 6!\n",
            "And the next number is... 7!\n",
            "And the next number is... 8!\n",
            "And the next number is... 9!\n"
          ]
        }
      ]
    },
    {
      "cell_type": "markdown",
      "metadata": {
        "id": "v_q8qYz5J2MZ"
      },
      "source": [
        "# Упражнение"
      ]
    },
    {
      "cell_type": "markdown",
      "metadata": {
        "id": "gWaWIqnxJ2MZ"
      },
      "source": [
        "<font size=4 face = 'Calibri' > написать генетор для последовательности Фибоначи\n",
        "\n",
        "$f(t)=f(t-1)+f(t-2)$, $f(0)=1$, $f(1)=1$\n"
      ]
    },
    {
      "cell_type": "code",
      "metadata": {
        "id": "HhXdAorWJ2MZ"
      },
      "source": [
        "#type your program below\n",
        "\n",
        " \n",
        "#don't forget to check the results"
      ],
      "execution_count": null,
      "outputs": []
    },
    {
      "cell_type": "markdown",
      "metadata": {
        "id": "mSZsWtBoJ2MZ"
      },
      "source": [
        "#  Лямбда функции (анонимные функции)"
      ]
    },
    {
      "cell_type": "markdown",
      "metadata": {
        "id": "7h4fjhRCJ2MZ"
      },
      "source": [
        "<font size=4 face = 'Calibri' > анонимные функции - это возможность вызова функций в любом месте кода, а также дань  лямбда-исчислению - основе математической теории языков проргаммирования (функциональному программированию)\n",
        "\n",
        "синтаксис\n",
        "\n",
        "$< имя - функции-(опционально)>$=$lambda$ $<аргументы>$ $:$ $<выражение>$\n",
        "\n",
        "\n",
        "($lambda$ $<arguments>$ $:$ $<expression>$)($<values of arguments>$) - анонимный вызов\n",
        "\n",
        "$<function name (optional)>$($<values of arguments>$) - традиционный вызов\n"
      ]
    },
    {
      "cell_type": "code",
      "metadata": {
        "id": "irnrq8dhJ2MZ",
        "outputId": "0809a570-dc3c-41c2-95ac-063e26709c22"
      },
      "source": [
        "'''the follow two ways are equal'''\n",
        "def add_val(a,b):\n",
        "    return (a+b)\n",
        "\n",
        "'''lambda functions have special syntaxis'''\n",
        "add_l=lambda a,b: a+b \n",
        "\n",
        "print(add_val(2,3))\n",
        "print(add_l(2,3))\n"
      ],
      "execution_count": null,
      "outputs": [
        {
          "name": "stdout",
          "output_type": "stream",
          "text": [
            "5\n",
            "5\n"
          ]
        }
      ]
    },
    {
      "cell_type": "markdown",
      "metadata": {
        "id": "bbXTpE3sJ2Ma"
      },
      "source": [
        "<font size=4 face = 'Calibri' >  примеры использования лямбда функций"
      ]
    },
    {
      "cell_type": "code",
      "metadata": {
        "id": "teluHC2qJ2Ma",
        "outputId": "7e98b775-0241-49a0-fd8c-d25cc0b5df6f"
      },
      "source": [
        "a=[1,2,3,4,5]\n",
        "b=[1,1,1,1,1]\n",
        "\n",
        "''' you may call lambda functions instantly in the form \n",
        "      (lambda <arguments>:<body of a function>)(<values of arguments>)'''\n",
        "d=[(lambda x:x*2)(ai) for ai in a]\n",
        "print(d)\n",
        "\n",
        "c=[(lambda x,y:x+y)(ai,bi) for (ai,bi) in zip(a,b)]\n",
        "print(c)\n",
        "\n",
        "e=[(lambda x,y:x*y)(ai,5) for ai in a]\n",
        "print(e)\n"
      ],
      "execution_count": null,
      "outputs": [
        {
          "name": "stdout",
          "output_type": "stream",
          "text": [
            "[2, 4, 6, 8, 10]\n",
            "[2, 3, 4, 5, 6]\n",
            "[5, 10, 15, 20, 25]\n"
          ]
        }
      ]
    },
    {
      "cell_type": "markdown",
      "metadata": {
        "id": "ZLA_k-elJ2Ma"
      },
      "source": [
        "<font size=4 face = 'Calibri' >  использование в генераторах"
      ]
    },
    {
      "cell_type": "code",
      "metadata": {
        "id": "mRuoGL_cJ2Ma",
        "outputId": "654b2821-dc55-4628-d768-f2254ed23430"
      },
      "source": [
        "a=range(10)\n",
        "f = ((lambda x:x*2)(ai) for ai in a)\n",
        "for numb in f:\n",
        "    print(numb) "
      ],
      "execution_count": null,
      "outputs": [
        {
          "name": "stdout",
          "output_type": "stream",
          "text": [
            "0\n",
            "2\n",
            "4\n",
            "6\n",
            "8\n",
            "10\n",
            "12\n",
            "14\n",
            "16\n",
            "18\n"
          ]
        }
      ]
    },
    {
      "cell_type": "markdown",
      "metadata": {
        "id": "SWo8GTDNJ2Ma"
      },
      "source": [
        "в условиях"
      ]
    },
    {
      "cell_type": "code",
      "metadata": {
        "id": "zM9BlS2oJ2Ma",
        "outputId": "2c4d73fc-ea51-4048-8ad3-a76bcb2704ce"
      },
      "source": [
        "a=range(10)\n",
        "f = ((lambda x:x*2 if x<5 else x)(ai) for ai in a)\n",
        "\n",
        "\n",
        "for numb in f:\n",
        "    print(numb) \n",
        "     "
      ],
      "execution_count": null,
      "outputs": [
        {
          "name": "stdout",
          "output_type": "stream",
          "text": [
            "0\n",
            "2\n",
            "4\n",
            "6\n",
            "8\n",
            "5\n",
            "6\n",
            "7\n",
            "8\n",
            "9\n"
          ]
        }
      ]
    },
    {
      "cell_type": "markdown",
      "metadata": {
        "id": "dHAGOX9jJ2Mb"
      },
      "source": [
        "# Упражнение"
      ]
    },
    {
      "cell_type": "markdown",
      "metadata": {
        "id": "AtPGtO-vJ2Mb"
      },
      "source": [
        "1. переписать в виде ламбда функций"
      ]
    },
    {
      "cell_type": "code",
      "metadata": {
        "id": "f-fCcoasJ2Mb",
        "outputId": "4f8b1371-d9bb-48cc-94dc-2c02c25001c7"
      },
      "source": [
        "def pow_val(a,b):\n",
        "    return a**b\n",
        "\n",
        "def create_array_of_squares(size_of_array):\n",
        "    c= []\n",
        "    for i in range (size_of_array):\n",
        "        c.append(pow_val(i,2))\n",
        "    return c\n",
        "        \n",
        "arr=create_array_of_squares(10)        \n",
        "print (arr)\n",
        "\n",
        "\n",
        "#type you program below\n",
        "\n",
        "\n",
        "#don't forget to check the results"
      ],
      "execution_count": null,
      "outputs": [
        {
          "name": "stdout",
          "output_type": "stream",
          "text": [
            "[0, 1, 4, 9, 16, 25, 36, 49, 64, 81]\n"
          ]
        }
      ]
    },
    {
      "cell_type": "markdown",
      "metadata": {
        "id": "L50iiuOKJ2Mb"
      },
      "source": [
        "2. переписать с использованием генераторов"
      ]
    },
    {
      "cell_type": "code",
      "metadata": {
        "id": "KF422yoXJ2Mb",
        "outputId": "6e63ae5d-d623-4edc-bdb4-5da21a601639"
      },
      "source": [
        "def range_of_squares(size_of_array):\n",
        "    for i in range (size_of_array):\n",
        "        yield(pow_val(i,2))\n",
        "\n",
        "        \n",
        "arr=[num for num in range_of_squares(10)]        \n",
        "print (arr)\n",
        "\n",
        "\n",
        "#type you program below\n",
        "\n",
        "\n",
        "#don't forget to check the results"
      ],
      "execution_count": null,
      "outputs": [
        {
          "name": "stdout",
          "output_type": "stream",
          "text": [
            "[0, 1, 4, 9, 16, 25, 36, 49, 64, 81]\n"
          ]
        }
      ]
    },
    {
      "cell_type": "markdown",
      "metadata": {
        "id": "4kQI1NCJJ2Mb"
      },
      "source": [
        "# Функциональные инструменты"
      ]
    },
    {
      "cell_type": "markdown",
      "metadata": {
        "id": "tss1ht44J2Mb"
      },
      "source": [
        "методы функционального программирования в Питоне"
      ]
    },
    {
      "cell_type": "markdown",
      "metadata": {
        "id": "KckfmVOoJ2Mb"
      },
      "source": [
        "map - метод отображения операции к масиву $map(<function>,<array>)$ "
      ]
    },
    {
      "cell_type": "code",
      "metadata": {
        "id": "BDJS0IEXJ2Mc",
        "outputId": "b70a1624-776a-4b23-eff5-25df76918bb1"
      },
      "source": [
        "print('input numbers')\n",
        "a=[1,2,3,4,5,6,7]\n",
        "print(a)\n",
        "\n",
        "print('chars')\n",
        "c=list(map(str,a)) #expression return a list of chars made from array a\n",
        "print(c)\n",
        "\n",
        "print('tuple of doubled numbers')\n",
        "d=tuple(map(lambda x:x*2, a)) #expression return a tuple of doubled values\n",
        "print(d)\n",
        "\n",
        "\n",
        "print('set of sum of doubled numbers and inputs')\n",
        "e= set(map(lambda x,y:x+y, a,d))\n",
        "print(e)\n",
        "\n"
      ],
      "execution_count": null,
      "outputs": [
        {
          "name": "stdout",
          "output_type": "stream",
          "text": [
            "input numbers\n",
            "[1, 2, 3, 4, 5, 6, 7]\n",
            "chars\n",
            "['1', '2', '3', '4', '5', '6', '7']\n",
            "tuple of doubled numbers\n",
            "(2, 4, 6, 8, 10, 12, 14)\n",
            "set of sum of doubled numbers and inputs\n",
            "{3, 6, 9, 12, 15, 18, 21}\n"
          ]
        }
      ]
    },
    {
      "cell_type": "markdown",
      "metadata": {
        "id": "yvwj7hZcJ2Mc"
      },
      "source": [
        "filter - метод выборки из масивов $filter(<condition>,<array>)$"
      ]
    },
    {
      "cell_type": "code",
      "metadata": {
        "id": "UOduucRnJ2Mc",
        "outputId": "1acd711d-0d97-4928-eb4c-3b17d503d367"
      },
      "source": [
        "print('input numbers')\n",
        "a=[1,2,3,4,5,6,7]\n",
        "print(a)\n",
        "\n",
        "print('numbers<5')\n",
        "c= list(filter(lambda x:x<5, a))\n",
        "print(c)\n",
        "\n",
        "print('odd numbers')\n",
        "c= list(filter(lambda x:x%2!=0, a))\n",
        "print(c)"
      ],
      "execution_count": null,
      "outputs": [
        {
          "name": "stdout",
          "output_type": "stream",
          "text": [
            "input numbers\n",
            "[1, 2, 3, 4, 5, 6, 7]\n",
            "numbers<5\n",
            "[1, 2, 3, 4]\n",
            "odd numbers\n",
            "[1, 3, 5, 7]\n"
          ]
        }
      ]
    },
    {
      "cell_type": "markdown",
      "metadata": {
        "id": "WnbaMnjVJ2Mc"
      },
      "source": [
        "# Упражнение"
      ]
    },
    {
      "cell_type": "markdown",
      "metadata": {
        "id": "OZi1-4e_J2Mc"
      },
      "source": [
        "переписать с использованием фильтров"
      ]
    },
    {
      "cell_type": "code",
      "metadata": {
        "id": "SwxhHS2dJ2Mc",
        "outputId": "b9ebf501-d3da-4e11-a121-0b04ab53d676"
      },
      "source": [
        "# 1.\n",
        "c=['this is '+str(ai) for ai in a]\n",
        "print(c)\n",
        "\n",
        "#type you program below\n",
        "\n",
        "\n",
        "#don't forget to check the results"
      ],
      "execution_count": null,
      "outputs": [
        {
          "name": "stdout",
          "output_type": "stream",
          "text": [
            "['this is 1', 'this is 2', 'this is 3', 'this is 4', 'this is 5', 'this is 6', 'this is 7']\n"
          ]
        }
      ]
    },
    {
      "cell_type": "code",
      "metadata": {
        "id": "fDogaod2J2Mc",
        "outputId": "3c17c212-74aa-4089-b48c-c5a560e9735c"
      },
      "source": [
        "# 2.\n",
        "c=[ai for ai in a if ai<4]\n",
        "print(c)\n",
        "\n",
        "#type you program below\n",
        "\n",
        "\n",
        "#don't forget to check the results"
      ],
      "execution_count": null,
      "outputs": [
        {
          "name": "stdout",
          "output_type": "stream",
          "text": [
            "[1, 2, 3]\n"
          ]
        }
      ]
    },
    {
      "cell_type": "code",
      "metadata": {
        "id": "GzzPgfxMJ2Md",
        "outputId": "e96ba3a0-994e-497b-a876-be7641a30504"
      },
      "source": [
        "# 3.\n",
        "a=[1,2,3,4]\n",
        "b=['a','b','c','d']\n",
        "c=['%d-th element = %s%d'%(i,bi,ai) for i,(ai,bi) in enumerate(zip(a,b)) if ai<4]\n",
        "print(c)\n",
        "\n",
        "#type you program below  \n",
        "\n",
        "\n",
        "#don't forget to check the results"
      ],
      "execution_count": null,
      "outputs": [
        {
          "name": "stdout",
          "output_type": "stream",
          "text": [
            "['0-th element = a1', '1-th element = b2', '2-th element = c3']\n"
          ]
        }
      ]
    },
    {
      "cell_type": "markdown",
      "metadata": {
        "id": "7JcM0O14J2Md"
      },
      "source": [
        "## Упражнение\n",
        "переписать следующий код  для случаев комплексных массивов"
      ]
    },
    {
      "cell_type": "code",
      "metadata": {
        "scrolled": true,
        "id": "_OQdvWtbJ2Md",
        "outputId": "7920957f-e8c6-464c-eaa3-76179f92085b"
      },
      "source": [
        "import functools as ft\n",
        "a=[1,2,3,4]\n",
        "#functools.reduce\n",
        "\n",
        "#function work like map, but return the operation made on two sequential elements of iterable object\n",
        "c =ft.reduce(lambda x,y:x+y,a) \n",
        "print(c)"
      ],
      "execution_count": null,
      "outputs": [
        {
          "name": "stdout",
          "output_type": "stream",
          "text": [
            "10\n"
          ]
        }
      ]
    },
    {
      "cell_type": "code",
      "metadata": {
        "id": "JocPNnlRJ2Md"
      },
      "source": [
        "#type you program below  \n",
        "\n",
        "\n",
        "#don't forget to check the results"
      ],
      "execution_count": null,
      "outputs": []
    },
    {
      "cell_type": "code",
      "metadata": {
        "id": "8TNWWbksJ2Md"
      },
      "source": [
        ""
      ],
      "execution_count": null,
      "outputs": []
    }
  ]
}