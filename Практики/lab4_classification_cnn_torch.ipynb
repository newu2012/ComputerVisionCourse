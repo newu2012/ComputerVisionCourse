{
  "cells": [
    {
      "cell_type": "markdown",
      "metadata": {
        "id": "view-in-github",
        "colab_type": "text"
      },
      "source": [
        "<a href=\"https://colab.research.google.com/github/newu2012/ComputerVisionCourse/blob/main/%D0%9F%D1%80%D0%B0%D0%BA%D1%82%D0%B8%D0%BA%D0%B8/lab4_classification_cnn_torch.ipynb\" target=\"_parent\"><img src=\"https://colab.research.google.com/assets/colab-badge.svg\" alt=\"Open In Colab\"/></a>"
      ]
    },
    {
      "cell_type": "markdown",
      "metadata": {
        "id": "NGJeybGmqOhe"
      },
      "source": [
        "# Сверточные нейронные сети в PyTorch"
      ]
    },
    {
      "cell_type": "markdown",
      "metadata": {
        "id": "_slzV1gBqOhe"
      },
      "source": [
        "---"
      ]
    },
    {
      "cell_type": "markdown",
      "metadata": {
        "id": "V_s0BkBUqOhe"
      },
      "source": [
        "## Сверточная нейронная сеть классификации изображений"
      ]
    },
    {
      "cell_type": "code",
      "execution_count": 3,
      "metadata": {
        "id": "1SdD6J7hqOhe"
      },
      "outputs": [],
      "source": [
        "import matplotlib.pyplot as plt\n",
        "import numpy as np"
      ]
    },
    {
      "cell_type": "code",
      "execution_count": 4,
      "metadata": {
        "id": "LGHI9y6vqOhf"
      },
      "outputs": [],
      "source": [
        "import torch\n",
        "import torch.nn as nn\n",
        "import torch.nn.functional as F\n",
        "import torch.optim as optim\n",
        "\n",
        "import torchvision\n",
        "import torchvision.transforms as transforms\n",
        "\n",
        "try:  \n",
        "    from torchsummary import summary\n",
        "except:\n",
        "  !pip install -U torchsummary\n",
        "  from torchsummary import summary"
      ]
    },
    {
      "cell_type": "markdown",
      "metadata": {
        "id": "9grafA9fqOhf"
      },
      "source": [
        "Рассмотрим задачу классификации для датасета Cifar10 - это классический датасет с изображениями, относящимися к 10 классам.\n",
        "Каждое изображение трех-цветное и имеет размер 32 на 32 пикслея (то есть представляет тензор размером 3х32х32).\n",
        "\n",
        "Например Cifar10 содержит следующие изображения.\n",
        "\n",
        "![](https://debuggercafe.com/wp-content/uploads/2019/10/cifar10_plot.png)"
      ]
    },
    {
      "cell_type": "markdown",
      "metadata": {
        "id": "zMxy_BKBqOhf"
      },
      "source": [
        "Загрузим датасет и проведем его нормализацию"
      ]
    },
    {
      "cell_type": "code",
      "execution_count": 3,
      "metadata": {
        "id": "TgULYeyyqOhf",
        "outputId": "b08ecd5e-6185-4057-8cb4-9b9c3847d203",
        "colab": {
          "base_uri": "https://localhost:8080/",
          "height": 101,
          "referenced_widgets": [
            "85bafeb082a7427186aee1f178c73e6f",
            "dd0e0e88b16c4190a6382e554e6b173f",
            "bb299bb6507e4b3da68d0db4c774503c",
            "84c6165376bd493b85af5ff330ec571b",
            "08293c853cdb4ebdadd8451973f430b2",
            "d851f540b51e4f4f928bab011ab55c81",
            "d0269a380d3247f0ba8ab3d9ced8394d",
            "656121b75cdc46b3a40756d6e2b54225",
            "8d57be12ceff460bb96fdd611bcde3fa",
            "4b5a50e2532c46aa8d4d75813fb27fb2",
            "3c86cc77705e46cc9e91a7f5462995e0"
          ]
        }
      },
      "outputs": [
        {
          "output_type": "stream",
          "name": "stdout",
          "text": [
            "Downloading https://www.cs.toronto.edu/~kriz/cifar-10-python.tar.gz to ./data/cifar-10-python.tar.gz\n"
          ]
        },
        {
          "output_type": "display_data",
          "data": {
            "application/vnd.jupyter.widget-view+json": {
              "model_id": "85bafeb082a7427186aee1f178c73e6f",
              "version_minor": 0,
              "version_major": 2
            },
            "text/plain": [
              "  0%|          | 0/170498071 [00:00<?, ?it/s]"
            ]
          },
          "metadata": {}
        },
        {
          "output_type": "stream",
          "name": "stdout",
          "text": [
            "Extracting ./data/cifar-10-python.tar.gz to ./data\n",
            "Files already downloaded and verified\n"
          ]
        }
      ],
      "source": [
        "transform =\\\n",
        "    transforms.Compose([transforms.ToTensor(),\n",
        "                        transforms.Normalize( \n",
        "                            mean = (0.5, 0.5, 0.5), \n",
        "                            std  = (0.5, 0.5, 0.5)  )\n",
        "                       ])\n",
        "\n",
        "BATCH_SIZE = 4\n",
        "\n",
        "trainset = torchvision.datasets.CIFAR10(root      = './data', \n",
        "                                        train     = True,\n",
        "                                        download  = True, \n",
        "                                        transform = transform)\n",
        "\n",
        "trainloader = torch.utils.data.DataLoader(trainset, \n",
        "                                          batch_size = BATCH_SIZE,\n",
        "                                          shuffle    = True)\n",
        "\n",
        "testset = torchvision.datasets.CIFAR10(root      = './data', \n",
        "                                       train     = False,\n",
        "                                       download  = True, \n",
        "                                       transform = transform)\n",
        "\n",
        "testloader = torch.utils.data.DataLoader(testset, \n",
        "                                         batch_size = BATCH_SIZE,\n",
        "                                         shuffle    = False)\n",
        "\n",
        "classes = ('plane', 'car', 'bird', 'cat','deer', 'dog', 'frog', 'horse', 'ship', 'truck')"
      ]
    },
    {
      "cell_type": "markdown",
      "metadata": {
        "id": "bNaSI2HjqOhg"
      },
      "source": [
        "Посмотрим на примеры изображений"
      ]
    },
    {
      "cell_type": "code",
      "execution_count": 34,
      "metadata": {
        "id": "khfmbrD4qOhg",
        "outputId": "07d9054a-29e7-4021-99e7-46d56cb48207",
        "colab": {
          "base_uri": "https://localhost:8080/",
          "height": 235
        }
      },
      "outputs": [
        {
          "output_type": "error",
          "ename": "NameError",
          "evalue": "ignored",
          "traceback": [
            "\u001b[0;31m---------------------------------------------------------------------------\u001b[0m",
            "\u001b[0;31mNameError\u001b[0m                                 Traceback (most recent call last)",
            "\u001b[0;32m<ipython-input-34-a9a83df57809>\u001b[0m in \u001b[0;36m<module>\u001b[0;34m()\u001b[0m\n\u001b[1;32m      7\u001b[0m     \u001b[0mplt\u001b[0m\u001b[0;34m.\u001b[0m\u001b[0mshow\u001b[0m\u001b[0;34m(\u001b[0m\u001b[0;34m)\u001b[0m\u001b[0;34m\u001b[0m\u001b[0;34m\u001b[0m\u001b[0m\n\u001b[1;32m      8\u001b[0m \u001b[0;34m\u001b[0m\u001b[0m\n\u001b[0;32m----> 9\u001b[0;31m \u001b[0mbatch\u001b[0m \u001b[0;34m=\u001b[0m \u001b[0mtrainloader\u001b[0m\u001b[0;34m\u001b[0m\u001b[0;34m\u001b[0m\u001b[0m\n\u001b[0m\u001b[1;32m     10\u001b[0m \u001b[0;34m\u001b[0m\u001b[0m\n\u001b[1;32m     11\u001b[0m \u001b[0mdataiter\u001b[0m \u001b[0;34m=\u001b[0m \u001b[0miter\u001b[0m\u001b[0;34m(\u001b[0m\u001b[0mtrainloader\u001b[0m\u001b[0;34m)\u001b[0m\u001b[0;34m\u001b[0m\u001b[0;34m\u001b[0m\u001b[0m\n",
            "\u001b[0;31mNameError\u001b[0m: name 'trainloader' is not defined"
          ]
        }
      ],
      "source": [
        "def imshow(img):\n",
        "    img = img / 2 + 0.5     # unnormalize\n",
        "    npimg = img.numpy()\n",
        "    \n",
        "    plt.figure(figsize=(16,4))\n",
        "    plt.imshow(np.transpose(npimg, (1, 2, 0)))\n",
        "    plt.show()\n",
        "\n",
        "batch = trainloader\n",
        "\n",
        "dataiter = iter(trainloader)\n",
        "images, labels = dataiter.next()\n",
        "\n",
        "imshow(torchvision.utils.make_grid(images))\n",
        "\n",
        "print(' '.join('%5s' % classes[labels[j]] for j in range(4)))"
      ]
    },
    {
      "cell_type": "markdown",
      "metadata": {
        "id": "mNkJhfPMqOhg"
      },
      "source": [
        "Теперь опишем класс сети. Будем использовать классическую сеть LeNet. Данная сеть была предложена в 1998 году и является одной из первых попыток разработки современного deep learning. \n",
        "\n",
        "Сеть имеет следующую архитектуру\n",
        "\n",
        "![](https://miro.medium.com/max/3600/1*-NnRGtEsiLHfNnUCSXoa-Q.png)"
      ]
    },
    {
      "cell_type": "markdown",
      "metadata": {
        "id": "KyeP6nBlqOhg"
      },
      "source": [
        "Таким образом сеть имеет:\n",
        " * входной слой для изображений 32х32 ( в нашем случае 3х32х32),\n",
        " * два сверточных слоя, \n",
        " * каждый сверточный слой имеет также макс-пулинг субдискретизацию,\n",
        " * слой векторизации карты признаков (приобразования матрицы в вектор путем ее \"разворачивания\",\n",
        " * два полносвязных внутренних слоя,\n",
        " * выходной слой - слой классификации с 10 выходами.\n",
        "\n",
        "Также особенности архитектуры:\n",
        "* свертка валидная (с уменьшением размера карты признаков на размер ядра - 1)$^*$;\n",
        "* ядро свертки имеет размер 5х5 (размер ядра = 5);\n",
        "* макс-пулин выполняется с шагом 2 по тайлам 2х2;\n",
        "* первый сверточный слой выдает 6 карт признаков 14х14 (после макс-пулинга);\n",
        "* второй сверточный слой выдает 16 карт признаков 5х5 (после макс-пулинга);\n",
        "* слой разворачивания принимает 16 карт признаков 5х5 и выдет вектор $1х16*5*5$ (1х400);\n",
        "* первый полносвязный слой имеет 120 выходов (120 перцептронов);\n",
        "* второй полносвязный слой имеет на выходе 84 перцептрона.\n",
        "\n",
        "$^*$Вобщем случае размер выхода свертки можно расчитать как: W=(W−F+2P)/S+1, where W is input size, F is kernel size, S is stride applied, and P is padding. "
      ]
    },
    {
      "cell_type": "markdown",
      "metadata": {
        "id": "F5CJ8B-wqOhg"
      },
      "source": [
        "**Реализуем сверточную сеть LeNet в виде класса, !Однако, для учебных целей добавим в сеть батч-нормализацию и дроп-ауты**"
      ]
    },
    {
      "cell_type": "code",
      "execution_count": 5,
      "metadata": {
        "id": "G7lsTeGUqOhg"
      },
      "outputs": [],
      "source": [
        "class CNNModel(nn.Module):\n",
        "    \n",
        "    N_CLASSES = 10  \n",
        "    \n",
        "    def __init__(self):\n",
        "        super(CNNModel, self).__init__()\n",
        "        \n",
        "        # convolution\n",
        "        self.conv1   = nn.Conv2d(in_channels  = 3, \n",
        "                                 out_channels = 6, \n",
        "                                 kernel_size  = 5)       \n",
        "\n",
        "        self.conv2   = nn.Conv2d(in_channels  = 6, \n",
        "                                 out_channels = 16,\n",
        "                                 kernel_size  = 5)\n",
        "        \n",
        "        self.bn  = nn.BatchNorm2d(16)  \n",
        "        self.dropout = nn.Dropout(0.1)\n",
        "        \n",
        "        self.maxpool = nn.MaxPool2d(kernel_size = 2, \n",
        "                                    stride      = 2)\n",
        "        \n",
        "        # classification\n",
        "        self.fc1 = nn.Linear(in_features  = 16 * 5 * 5, \n",
        "                             out_features = 120)\n",
        "        \n",
        "        self.fc2 = nn.Linear(in_features  = 120, \n",
        "                             out_features = 84)\n",
        "        \n",
        "        self.fc_out = nn.Linear(in_features = 84, \n",
        "                                out_features = self.N_CLASSES)\n",
        "    \n",
        "    # specific operation\n",
        "    def flatten(self, x):\n",
        "        return x.view(-1, 16 * 5 * 5)\n",
        "    \n",
        "    def forward(self, x):\n",
        "        \n",
        "        # 1-st layer\n",
        "        x = self.conv1(x)\n",
        "        x = torch.relu(x)        \n",
        "        x = self.maxpool(x)\n",
        "        x = self.dropout(x)\n",
        "        \n",
        "        #2-nd layer\n",
        "        x = self.conv2(x)         \n",
        "        x = self.bn(x)        \n",
        "        x = torch.relu(x)        \n",
        "        x = self.maxpool(x)\n",
        "\n",
        "        #flatten\n",
        "        x = self.flatten(x)\n",
        "        \n",
        "        # 1-st fc layer\n",
        "        x = self.fc1(x)\n",
        "        x = torch.relu(x)\n",
        "        \n",
        "        # 2-nd fc layer\n",
        "        x = self.fc2(x)\n",
        "        x = torch.relu(x)\n",
        "        \n",
        "        # output layer\n",
        "        x = self.fc_out(x)\n",
        "        \n",
        "        return x#torch.softmax(x, dim=1)"
      ]
    },
    {
      "cell_type": "code",
      "execution_count": 6,
      "metadata": {
        "id": "n1wg_3b1qOhg",
        "outputId": "75323bc9-fde4-4be8-e88c-56f472ef8dad",
        "colab": {
          "base_uri": "https://localhost:8080/"
        }
      },
      "outputs": [
        {
          "output_type": "stream",
          "name": "stdout",
          "text": [
            "torch.Size([4, 3, 32, 32])\n"
          ]
        }
      ],
      "source": [
        "print(images.shape)"
      ]
    },
    {
      "cell_type": "markdown",
      "metadata": {
        "id": "iY8XZwb6qOhg"
      },
      "source": [
        "**Опишим настрой**"
      ]
    },
    {
      "cell_type": "code",
      "execution_count": 7,
      "metadata": {
        "id": "AAFRXpK-qOhg"
      },
      "outputs": [],
      "source": [
        "LR = 0.001\n",
        "cnn_net   = CNNModel()\n",
        "criterion = nn.CrossEntropyLoss()\n",
        "optimizer = torch.optim.Adam(cnn_net.parameters(), lr=LR)\n"
      ]
    },
    {
      "cell_type": "markdown",
      "metadata": {
        "id": "TMMEP0FBqOhh"
      },
      "source": [
        "Посмотрим структуру параметров созданной сети"
      ]
    },
    {
      "cell_type": "code",
      "execution_count": 8,
      "metadata": {
        "id": "Zy9FMZaWqOhh",
        "outputId": "1ad7640a-3a5c-4121-84b5-ba507b5fe041",
        "colab": {
          "base_uri": "https://localhost:8080/"
        }
      },
      "outputs": [
        {
          "output_type": "stream",
          "name": "stdout",
          "text": [
            "conv1.weight \t structure = [6, 3, 5, 5]\n",
            "conv1.bias \t structure = [6]\n",
            "conv2.weight \t structure = [16, 6, 5, 5]\n",
            "conv2.bias \t structure = [16]\n",
            "bn.weight \t structure = [16]\n",
            "bn.bias \t structure = [16]\n",
            "fc1.weight \t structure = [120, 400]\n",
            "fc1.bias \t structure = [120]\n",
            "fc2.weight \t structure = [84, 120]\n",
            "fc2.bias \t structure = [84]\n",
            "fc_out.weight \t structure = [10, 84]\n",
            "fc_out.bias \t structure = [10]\n"
          ]
        }
      ],
      "source": [
        "for name, param in cnn_net.named_parameters():\n",
        "    print(name, '\\t structure =',list(param.size()))"
      ]
    },
    {
      "cell_type": "code",
      "execution_count": 9,
      "metadata": {
        "id": "qP-hu0bHqOhh",
        "outputId": "56ebe149-ef60-44a7-a332-53388e97c4f8",
        "colab": {
          "base_uri": "https://localhost:8080/"
        }
      },
      "outputs": [
        {
          "output_type": "stream",
          "name": "stdout",
          "text": [
            "----------------------------------------------------------------\n",
            "        Layer (type)               Output Shape         Param #\n",
            "================================================================\n",
            "            Conv2d-1            [-1, 6, 28, 28]             456\n",
            "         MaxPool2d-2            [-1, 6, 14, 14]               0\n",
            "           Dropout-3            [-1, 6, 14, 14]               0\n",
            "            Conv2d-4           [-1, 16, 10, 10]           2,416\n",
            "       BatchNorm2d-5           [-1, 16, 10, 10]              32\n",
            "         MaxPool2d-6             [-1, 16, 5, 5]               0\n",
            "            Linear-7                  [-1, 120]          48,120\n",
            "            Linear-8                   [-1, 84]          10,164\n",
            "            Linear-9                   [-1, 10]             850\n",
            "================================================================\n",
            "Total params: 62,038\n",
            "Trainable params: 62,038\n",
            "Non-trainable params: 0\n",
            "----------------------------------------------------------------\n",
            "Input size (MB): 0.01\n",
            "Forward/backward pass size (MB): 0.08\n",
            "Params size (MB): 0.24\n",
            "Estimated Total Size (MB): 0.33\n",
            "----------------------------------------------------------------\n"
          ]
        }
      ],
      "source": [
        "summary(cnn_net,input_size=(3, 32, 32))"
      ]
    },
    {
      "cell_type": "markdown",
      "metadata": {
        "id": "8Oz5Q80yqOhh"
      },
      "source": [
        "**Процесс обучения**"
      ]
    },
    {
      "cell_type": "code",
      "execution_count": 10,
      "metadata": {
        "id": "FPyqq-tYqOhh",
        "outputId": "a56f9662-2536-4c53-f88a-168a7298c056",
        "colab": {
          "base_uri": "https://localhost:8080/"
        }
      },
      "outputs": [
        {
          "output_type": "stream",
          "name": "stdout",
          "text": [
            "[1,  2000] loss: 1.896\n",
            "[1,  4000] loss: 1.670\n",
            "[1,  6000] loss: 1.607\n",
            "[1,  8000] loss: 1.546\n",
            "[1, 10000] loss: 1.522\n",
            "[1, 12000] loss: 1.478\n",
            "[2,  2000] loss: 1.415\n",
            "[2,  4000] loss: 1.391\n",
            "[2,  6000] loss: 1.383\n",
            "[2,  8000] loss: 1.356\n",
            "[2, 10000] loss: 1.359\n",
            "[2, 12000] loss: 1.357\n",
            "[3,  2000] loss: 1.290\n",
            "[3,  4000] loss: 1.307\n",
            "[3,  6000] loss: 1.291\n",
            "[3,  8000] loss: 1.265\n",
            "[3, 10000] loss: 1.263\n",
            "[3, 12000] loss: 1.267\n",
            "[4,  2000] loss: 1.217\n",
            "[4,  4000] loss: 1.225\n",
            "[4,  6000] loss: 1.228\n",
            "[4,  8000] loss: 1.215\n",
            "[4, 10000] loss: 1.213\n",
            "[4, 12000] loss: 1.202\n",
            "[5,  2000] loss: 1.185\n",
            "[5,  4000] loss: 1.180\n",
            "[5,  6000] loss: 1.166\n",
            "[5,  8000] loss: 1.171\n",
            "[5, 10000] loss: 1.164\n",
            "[5, 12000] loss: 1.171\n",
            "Finished Training\n"
          ]
        }
      ],
      "source": [
        "EPOHS = 5\n",
        "\n",
        "for epoch in range(EPOHS):  # loop over the dataset multiple times\n",
        "    cnn_net.train()\n",
        "    running_loss = 0.0\n",
        "    for i, data in enumerate(trainloader, 0):\n",
        "        \n",
        "        # get the inputs; data is a list of [inputs, labels]\n",
        "        inputs, labels = data\n",
        "\n",
        "        # zero the parameter gradients\n",
        "        optimizer.zero_grad()\n",
        "\n",
        "        # forward + backward + optimize        \n",
        "        outputs = cnn_net(inputs)        \n",
        "        loss    = criterion(outputs, labels)\n",
        "        loss.backward()\n",
        "        optimizer.step()\n",
        "\n",
        "        # print statistics\n",
        "        running_loss += loss.item()\n",
        "        \n",
        "        if i % 2000 == 1999:    # print every 2000 mini-batches\n",
        "            print('[%d, %5d] loss: %.3f' %\n",
        "                  (epoch + 1, i + 1, running_loss / 2000))\n",
        "            running_loss = 0.0\n",
        "\n",
        "print('Finished Training')"
      ]
    },
    {
      "cell_type": "markdown",
      "metadata": {
        "id": "bxNd7DGJqOhh"
      },
      "source": [
        "**Сохраним результат**"
      ]
    },
    {
      "cell_type": "code",
      "execution_count": 11,
      "metadata": {
        "id": "c_5GzLrnqOhh"
      },
      "outputs": [],
      "source": [
        "PATH = './cifar_net.pth'\n",
        "torch.save(cnn_net.state_dict(), PATH)"
      ]
    },
    {
      "cell_type": "markdown",
      "metadata": {
        "id": "2SpaMlYiqOhh"
      },
      "source": [
        "**Загрузим результат**"
      ]
    },
    {
      "cell_type": "code",
      "execution_count": 12,
      "metadata": {
        "id": "vU1W2uZRqOhh",
        "outputId": "de8111a9-4d59-4292-850f-4ad7763f0b5b",
        "colab": {
          "base_uri": "https://localhost:8080/"
        }
      },
      "outputs": [
        {
          "output_type": "execute_result",
          "data": {
            "text/plain": [
              "<All keys matched successfully>"
            ]
          },
          "metadata": {},
          "execution_count": 12
        }
      ],
      "source": [
        "cnn_net = CNNModel()\n",
        "cnn_net.load_state_dict(torch.load(PATH))"
      ]
    },
    {
      "cell_type": "markdown",
      "metadata": {
        "id": "0A7VXC_YqOhh"
      },
      "source": [
        "**Проверим результат на тесте**"
      ]
    },
    {
      "cell_type": "code",
      "execution_count": 13,
      "metadata": {
        "id": "BoYG-zWHqOhh",
        "outputId": "8bfb2b2f-e254-4ca4-dfc4-57d79d55d484",
        "colab": {
          "base_uri": "https://localhost:8080/"
        }
      },
      "outputs": [
        {
          "output_type": "stream",
          "name": "stdout",
          "text": [
            "tensor([[ -3.6931,  -3.1442,  -1.2017,   0.4320,  -1.3800,  -0.3518,  -1.0652,\n",
            "          -2.3568,  -1.7007,  -3.4291],\n",
            "        [  1.2083,   1.1633,  -5.2502,  -6.5320,  -6.0350,  -7.8968,  -7.2149,\n",
            "          -6.2938,   1.2196,  -0.3644],\n",
            "        [  0.6830,   0.0396,  -1.7871,  -2.3763,  -1.5479,  -2.7990,  -3.3531,\n",
            "          -1.8973,  -0.0496,  -0.0418],\n",
            "        [  2.2801,  -6.1689,  -3.2728,  -7.6240,  -5.9766, -10.4014,  -6.3436,\n",
            "          -9.6883,   1.2562,  -6.4573]], grad_fn=<AddmmBackward0>)\n"
          ]
        }
      ],
      "source": [
        "cnn_net.eval()\n",
        "dataiter = iter(testloader)\n",
        "images, labels = dataiter.next()\n",
        "outputs = cnn_net(images)\n",
        "print(outputs)"
      ]
    },
    {
      "cell_type": "markdown",
      "metadata": {
        "id": "QbZHlDMlqOhh"
      },
      "source": [
        "**Приведем результат к более понятному виду**\n",
        "Каждый номер в выходном тензоре будет класс соответствующий картинке батча"
      ]
    },
    {
      "cell_type": "code",
      "execution_count": 14,
      "metadata": {
        "id": "gjUv3Gy4qOhh",
        "outputId": "cf474a87-b3f7-4468-d9d7-88cbfd863683",
        "colab": {
          "base_uri": "https://localhost:8080/"
        }
      },
      "outputs": [
        {
          "output_type": "stream",
          "name": "stdout",
          "text": [
            "tensor([3, 8, 0, 0])\n"
          ]
        }
      ],
      "source": [
        "_, predicted = torch.max(outputs, 1)\n",
        "print(predicted)"
      ]
    },
    {
      "cell_type": "markdown",
      "metadata": {
        "id": "Y-gpS871qOhh"
      },
      "source": [
        "**Посмотрим, что получилось**"
      ]
    },
    {
      "cell_type": "code",
      "execution_count": 15,
      "metadata": {
        "id": "QwsWqVNvqOhh",
        "outputId": "cd7fb1a2-30a3-456d-d4a0-b9a254a59115",
        "colab": {
          "base_uri": "https://localhost:8080/",
          "height": 301
        }
      },
      "outputs": [
        {
          "output_type": "display_data",
          "data": {
            "image/png": "[encoded data removed]",
            "text/plain": [
              "<Figure size 1152x288 with 1 Axes>"
            ]
          },
          "metadata": {
            "needs_background": "light"
          }
        },
        {
          "output_type": "stream",
          "name": "stdout",
          "text": [
            "GroundTruth:    cat  ship  ship plane\n",
            "Predicted :     cat  ship plane plane\n"
          ]
        }
      ],
      "source": [
        "# print images\n",
        "imshow(torchvision.utils.make_grid(images))\n",
        "print('GroundTruth: ', ' '.join('%5s' % classes[labels[j]] for j in range(4)))\n",
        "print('Predicted :  ', ' '.join('%5s' % classes[predicted[j]] for j in range(4)))"
      ]
    },
    {
      "cell_type": "markdown",
      "metadata": {
        "id": "wmCtOCURqOhh"
      },
      "source": [
        "**Попробуем посчитать точность как число правильно классифицированных изобаржений к общему числу изображений**"
      ]
    },
    {
      "cell_type": "code",
      "execution_count": 16,
      "metadata": {
        "id": "c57o9FL2qOhh",
        "outputId": "50a27c51-0af9-46d8-8554-234196cd29ba",
        "colab": {
          "base_uri": "https://localhost:8080/"
        }
      },
      "outputs": [
        {
          "output_type": "stream",
          "name": "stdout",
          "text": [
            "Accuracy of the network on the 10000 test images: 60 %\n"
          ]
        }
      ],
      "source": [
        "cnn_net.eval()\n",
        "correct = 0\n",
        "total   = 0\n",
        "with torch.no_grad():\n",
        "    for data in testloader:\n",
        "        images, labels = data\n",
        "        outputs        = cnn_net(images)\n",
        "        _, predicted    = torch.max(outputs.data, 1)\n",
        "        total   += labels.size(0)\n",
        "        correct += (predicted == labels).sum().item()\n",
        "\n",
        "print('Accuracy of the network on the 10000 test images: %d %%' % (\n",
        "    100 * correct / total))"
      ]
    },
    {
      "cell_type": "markdown",
      "metadata": {
        "id": "jR1L29PzqOhh"
      },
      "source": [
        "**Проведем анализ по каждому классу**"
      ]
    },
    {
      "cell_type": "code",
      "execution_count": 17,
      "metadata": {
        "id": "ZWtxDLkgqOhh",
        "outputId": "0d0edd21-70f2-49e0-f20d-45bd26bbca99",
        "colab": {
          "base_uri": "https://localhost:8080/"
        }
      },
      "outputs": [
        {
          "output_type": "stream",
          "name": "stdout",
          "text": [
            "Accuracy of plane : 75 %\n",
            "Accuracy of   car : 73 %\n",
            "Accuracy of  bird : 42 %\n",
            "Accuracy of   cat : 29 %\n",
            "Accuracy of  deer : 63 %\n",
            "Accuracy of   dog : 50 %\n",
            "Accuracy of  frog : 66 %\n",
            "Accuracy of horse : 68 %\n",
            "Accuracy of  ship : 68 %\n",
            "Accuracy of truck : 65 %\n"
          ]
        }
      ],
      "source": [
        "cnn_net.eval()\n",
        "class_correct = list(0. for i in range(10))\n",
        "class_total   = list(0. for i in range(10))\n",
        "with torch.no_grad():\n",
        "    for data in testloader:\n",
        "        images, labels = data\n",
        "        outputs = cnn_net(images)\n",
        "        _, predicted = torch.max(outputs, 1)\n",
        "        c = (predicted == labels).squeeze()\n",
        "        for i in range(4):\n",
        "            label = labels[i]\n",
        "            class_correct[label] += c[i].item()\n",
        "            class_total[label]   += 1\n",
        "\n",
        "\n",
        "for i in range(10):\n",
        "    print('Accuracy of %5s : %2d %%' % (\n",
        "        classes[i], 100 * class_correct[i] / class_total[i]))"
      ]
    },
    {
      "cell_type": "markdown",
      "metadata": {
        "id": "E4m8xWrlqOhh"
      },
      "source": [
        "#### Упражнение 1 \n",
        "Добавьте к процессу обучения валидацию и добавьте валидационный датасет."
      ]
    },
    {
      "cell_type": "code",
      "execution_count": 13,
      "metadata": {
        "id": "hx-i_WrbqOhh"
      },
      "outputs": [],
      "source": [
        "import torch\n",
        "import torchvision\n",
        "import numpy as np\n",
        "import matplotlib.pyplot as plt\n",
        "import torch.nn as nn\n",
        "import torch.nn.functional as F\n",
        "from torchvision.datasets import CIFAR10\n",
        "from torchvision.transforms import ToTensor\n",
        "from torchvision.utils import make_grid\n",
        "from torch.utils.data.dataloader import DataLoader\n",
        "from torch.utils.data import random_split\n",
        "%matplotlib inline"
      ]
    },
    {
      "cell_type": "code",
      "source": [
        "dataset = torchvision.datasets.CIFAR10(root='data/', download=True, transform=ToTensor())"
      ],
      "metadata": {
        "colab": {
          "base_uri": "https://localhost:8080/",
          "height": 84,
          "referenced_widgets": [
            "9cbb225fecc0412c8c927ffa1a7e5d12",
            "ba760574619b4c098eda1495fc8fd2d7",
            "476b4e7c8e744421b9da4d423e0824a4",
            "b81c967a14ff4bc187219515fc5b0725",
            "cee9f36f8dea4cb58520c6cc526adcca",
            "8f61d307806a4f858cec16b8ad2d77c0",
            "b1aeb9424771456b9bc4e94dccd499a0",
            "4efec412c11e46489113cd622ba8a562",
            "a146b889bfd04dc48876b71bf996d1c2",
            "82aa16e155724f0ca9c82a8ec192bd7c",
            "342c779be2324c44ab17540d1cf7143d"
          ]
        },
        "id": "RyCROehI_5ju",
        "outputId": "18fea037-e473-4cb8-d689-7467f9455240"
      },
      "execution_count": 5,
      "outputs": [
        {
          "output_type": "stream",
          "name": "stdout",
          "text": [
            "Downloading https://www.cs.toronto.edu/~kriz/cifar-10-python.tar.gz to data/cifar-10-python.tar.gz\n"
          ]
        },
        {
          "output_type": "display_data",
          "data": {
            "application/vnd.jupyter.widget-view+json": {
              "model_id": "9cbb225fecc0412c8c927ffa1a7e5d12",
              "version_minor": 0,
              "version_major": 2
            },
            "text/plain": [
              "  0%|          | 0/170498071 [00:00<?, ?it/s]"
            ]
          },
          "metadata": {}
        },
        {
          "output_type": "stream",
          "name": "stdout",
          "text": [
            "Extracting data/cifar-10-python.tar.gz to data/\n"
          ]
        }
      ]
    },
    {
      "cell_type": "code",
      "source": [
        "device = torch.device('cpu')"
      ],
      "metadata": {
        "id": "QeeVL2mQ0r2r"
      },
      "execution_count": 15,
      "outputs": []
    },
    {
      "cell_type": "code",
      "source": [
        "transform =\\\n",
        "    transforms.Compose([transforms.ToTensor(),\n",
        "                        transforms.Normalize( \n",
        "                            mean = (0.5, 0.5, 0.5), \n",
        "                            std  = (0.5, 0.5, 0.5)  )\n",
        "                       ])\n",
        "\n",
        "BATCH_SIZE = 4\n",
        "\n",
        "torch.manual_seed(2012)\n",
        "val_size = 5000\n",
        "train_size = len(dataset) - val_size\n",
        "\n",
        "train_set, val_set = random_split(dataset, [train_size, val_size])\n",
        "\n",
        "train_loader = torch.utils.data.DataLoader(train_set, \n",
        "                                          batch_size = BATCH_SIZE,\n",
        "                                          shuffle    = True,\n",
        "                                          pin_memory = True)\n",
        "\n",
        "val_loader = DataLoader(val_set, \n",
        "                        BATCH_SIZE, \n",
        "                        pin_memory  = True)\n",
        "\n",
        "\n",
        "test_set = torchvision.datasets.CIFAR10(root      = './data', \n",
        "                                       train     = False,\n",
        "                                       download  = True, \n",
        "                                       transform = transform)\n",
        "\n",
        "test_loader = torch.utils.data.DataLoader(test_set, \n",
        "                                         batch_size = BATCH_SIZE,\n",
        "                                         shuffle    = False)\n",
        "\n",
        "classes = ('plane', 'car', 'bird', 'cat','deer', 'dog', 'frog', 'horse', 'ship', 'truck')"
      ],
      "metadata": {
        "colab": {
          "base_uri": "https://localhost:8080/"
        },
        "id": "Fc3nniUe9aqj",
        "outputId": "a8fe64b5-e626-4971-bffb-1da0a0a07b26"
      },
      "execution_count": 18,
      "outputs": [
        {
          "output_type": "stream",
          "name": "stdout",
          "text": [
            "Files already downloaded and verified\n"
          ]
        }
      ]
    },
    {
      "cell_type": "code",
      "source": [
        "def accuracy(outputs, labels):\n",
        "    _, preds = torch.max(outputs, dim=1)\n",
        "    return torch.tensor(torch.sum(preds == labels).item() / len(preds))"
      ],
      "metadata": {
        "id": "PbVR4Kf39auA"
      },
      "execution_count": 9,
      "outputs": []
    },
    {
      "cell_type": "code",
      "source": [
        "class ImageClassificationBase(nn.Module):\n",
        "    def training_step(self, batch):\n",
        "        images, labels = batch \n",
        "        out = self(images)                  # Generate predictions\n",
        "        loss = F.cross_entropy(out, labels) # Calculate loss\n",
        "        return loss\n",
        "    \n",
        "    def validation_step(self, batch):\n",
        "        images, labels = batch \n",
        "        out = self(images)                    # Generate predictions\n",
        "        loss = F.cross_entropy(out, labels)   # Calculate loss\n",
        "        acc = accuracy(out, labels)           # Calculate accuracy\n",
        "        return {'val_loss': loss.detach(), 'val_acc': acc}\n",
        "        \n",
        "    def validation_epoch_end(self, outputs):\n",
        "        batch_losses = [x['val_loss'] for x in outputs]\n",
        "        epoch_loss = torch.stack(batch_losses).mean()   # Combine losses\n",
        "        batch_accs = [x['val_acc'] for x in outputs]\n",
        "        epoch_acc = torch.stack(batch_accs).mean()      # Combine accuracies\n",
        "        return {'val_loss': epoch_loss.item(), 'val_acc': epoch_acc.item()}\n",
        "    \n",
        "    def epoch_end(self, epoch, result):\n",
        "        print(\"Epoch [{}], val_acc: {:.4f}, val_loss: {:.4f}\".format(epoch, result['val_acc'], result['val_loss']))"
      ],
      "metadata": {
        "id": "3UsJbDLZ9aww"
      },
      "execution_count": 29,
      "outputs": []
    },
    {
      "cell_type": "code",
      "source": [
        "def evaluate(model, val_loader):\n",
        "    outputs = [model.validation_step(batch) for batch in val_loader]\n",
        "    return model.validation_epoch_end(outputs)\n",
        "\n",
        "def fit(model, train_loader, val_loader, opt_func=torch.optim.SGD):\n",
        "    epochs = 5\n",
        "    lr = 0.001\n",
        "    history = []\n",
        "    optimizer = opt_func(model.parameters(), lr)\n",
        "    for epoch in range(epochs):\n",
        "        # Training Phase \n",
        "        for batch in train_loader:\n",
        "            loss = model.training_step(batch)\n",
        "            loss.backward()\n",
        "            optimizer.step()\n",
        "            optimizer.zero_grad()\n",
        "        # Validation phase\n",
        "        result = evaluate(model, val_loader)\n",
        "        model.epoch_end(epoch, result)\n",
        "        history.append(result)\n",
        "    return history"
      ],
      "metadata": {
        "id": "svk2V57d9azk"
      },
      "execution_count": 21,
      "outputs": []
    },
    {
      "cell_type": "code",
      "source": [
        "class CNNModel(nn.Module):\n",
        "    N_CLASSES = 10  \n",
        "    def __init__(self):\n",
        "        super(CNNModel, self).__init__()\n",
        "        # convolution\n",
        "        self.conv1   = nn.Conv2d(in_channels  = 3, \n",
        "                                 out_channels = 6, \n",
        "                                 kernel_size  = 5)       \n",
        "        self.conv2   = nn.Conv2d(in_channels  = 6, \n",
        "                                 out_channels = 16,\n",
        "                                 kernel_size  = 5)\n",
        "        self.bn  = nn.BatchNorm2d(16)  \n",
        "        self.dropout = nn.Dropout(0.1)\n",
        "        self.maxpool = nn.MaxPool2d(kernel_size = 2, \n",
        "                                    stride      = 2)\n",
        "        # classification\n",
        "        self.fc1 = nn.Linear(in_features  = 16 * 5 * 5, \n",
        "                             out_features = 120)\n",
        "        self.fc2 = nn.Linear(in_features  = 120, \n",
        "                             out_features = 84)\n",
        "        self.fc_out = nn.Linear(in_features = 84, \n",
        "                                out_features = self.N_CLASSES)\n",
        "    # specific operation\n",
        "    def flatten(self, x):\n",
        "        return x.view(-1, 16 * 5 * 5)\n",
        "    def forward(self, x):\n",
        "        # 1-st layer\n",
        "        x = self.conv1(x)\n",
        "        x = torch.relu(x)        \n",
        "        x = self.maxpool(x)\n",
        "        x = self.dropout(x)\n",
        "        #2-nd layer\n",
        "        x = self.conv2(x)         \n",
        "        x = self.bn(x)        \n",
        "        x = torch.relu(x)        \n",
        "        x = self.maxpool(x)\n",
        "        #flatten\n",
        "        x = self.flatten(x)\n",
        "        # 1-st fc layer\n",
        "        x = self.fc1(x)\n",
        "        x = torch.relu(x)\n",
        "        # 2-nd fc layer\n",
        "        x = self.fc2(x)\n",
        "        x = torch.relu(x)\n",
        "        # output layer\n",
        "        x = self.fc_out(x)\n",
        "        return x#torch.softmax(x, dim=1)"
      ],
      "metadata": {
        "id": "WKY_ETES4SS2"
      },
      "execution_count": null,
      "outputs": []
    },
    {
      "cell_type": "code",
      "source": [
        "def to_device(data, device):\n",
        "    \"\"\"Move tensor(s) to chosen device\"\"\"\n",
        "    if isinstance(data, (list,tuple)):\n",
        "        return [to_device(x, device) for x in data]\n",
        "    return data.to(device, non_blocking=True)\n",
        "\n",
        "class DeviceDataLoader():\n",
        "    \"\"\"Wrap a dataloader to move data to a device\"\"\"\n",
        "    def __init__(self, dl, device):\n",
        "        self.dl = dl\n",
        "        self.device = device\n",
        "        \n",
        "    def __iter__(self):\n",
        "        \"\"\"Yield a batch of data after moving it to device\"\"\"\n",
        "        for b in self.dl: \n",
        "            yield to_device(b, self.device)\n",
        "\n",
        "    def __len__(self):\n",
        "        \"\"\"Number of batches\"\"\"\n",
        "        return len(self.dl)"
      ],
      "metadata": {
        "id": "R-p9a3bR0n6Q"
      },
      "execution_count": 22,
      "outputs": []
    },
    {
      "cell_type": "code",
      "source": [
        "train_loader = DeviceDataLoader(train_loader, device)\n",
        "val_loader = DeviceDataLoader(val_loader, device)\n",
        "test_loader = DeviceDataLoader(test_loader, device)"
      ],
      "metadata": {
        "id": "yzoOLHdt0n1Q"
      },
      "execution_count": 23,
      "outputs": []
    },
    {
      "cell_type": "code",
      "source": [
        "input_size = 3*32*32\n",
        "output_size = 10"
      ],
      "metadata": {
        "id": "3Eho4e7l0nwT"
      },
      "execution_count": 20,
      "outputs": []
    },
    {
      "cell_type": "code",
      "source": [
        "class CIFAR10Model(ImageClassificationBase):\n",
        "    def __init__(self):\n",
        "        super().__init__()\n",
        "        self.linear1 = nn.Linear(input_size, 256)\n",
        "        self.linear2 = nn.Linear(256, 128)\n",
        "        self.linear3 = nn.Linear(128, output_size)\n",
        "        \n",
        "    def forward(self, xb):\n",
        "        # Flatten images into vectors\n",
        "        out = xb.view(xb.size(0), -1)\n",
        "        # Apply layers & activation functions\n",
        "        out = self.linear1(out)\n",
        "        out = F.relu(out)\n",
        "        out = self.linear2(out)\n",
        "        out = F.relu(out)\n",
        "        out = self.linear3(out)\n",
        "        return out"
      ],
      "metadata": {
        "id": "rG2GtNBr1Rsi"
      },
      "execution_count": 24,
      "outputs": []
    },
    {
      "cell_type": "code",
      "source": [
        "model = to_device(CIFAR10Model(), device)\n",
        "\n",
        "history = [evaluate(model, val_loader)]\n",
        "history"
      ],
      "metadata": {
        "colab": {
          "base_uri": "https://localhost:8080/"
        },
        "id": "seVaIhGn1RnV",
        "outputId": "70a13c28-3337-4f6c-9a72-886c147f1465"
      },
      "execution_count": 25,
      "outputs": [
        {
          "output_type": "execute_result",
          "data": {
            "text/plain": [
              "[{'val_acc': 0.11959999799728394, 'val_loss': 2.3040788173675537}]"
            ]
          },
          "metadata": {},
          "execution_count": 25
        }
      ]
    },
    {
      "cell_type": "code",
      "source": [
        "def plot_losses(history):\n",
        "    losses = [x['val_loss'] for x in history]\n",
        "    plt.plot(losses, '-x')\n",
        "    plt.xlabel('epoch')\n",
        "    plt.ylabel('loss')\n",
        "    plt.title('Loss vs. No. of epochs');"
      ],
      "metadata": {
        "id": "SUh18eOS2GWh"
      },
      "execution_count": 26,
      "outputs": []
    },
    {
      "cell_type": "code",
      "source": [
        "def plot_accuracies(history):\n",
        "    accuracies = [x['val_acc'] for x in history]\n",
        "    plt.plot(accuracies, '-x')\n",
        "    plt.xlabel('epoch')\n",
        "    plt.ylabel('accuracy')\n",
        "    plt.title('Accuracy vs. No. of epochs');"
      ],
      "metadata": {
        "id": "pPmHuYMD2GS-"
      },
      "execution_count": 27,
      "outputs": []
    },
    {
      "cell_type": "code",
      "source": [
        "history += fit(model, train_loader, val_loader)"
      ],
      "metadata": {
        "colab": {
          "base_uri": "https://localhost:8080/"
        },
        "id": "c0lpclIQ2GPV",
        "outputId": "2c4a0103-621f-4727-f0eb-3631310c4bd1"
      },
      "execution_count": 30,
      "outputs": [
        {
          "output_type": "stream",
          "name": "stdout",
          "text": [
            "Epoch [0], val_loss: 1.7146, val_acc: 0.3866\n",
            "Epoch [1], val_loss: 1.6574, val_acc: 0.4034\n",
            "Epoch [2], val_loss: 1.6256, val_acc: 0.4166\n",
            "Epoch [3], val_loss: 1.5811, val_acc: 0.4390\n",
            "Epoch [4], val_loss: 1.5492, val_acc: 0.4518\n"
          ]
        }
      ]
    },
    {
      "cell_type": "code",
      "source": [
        "plot_losses(history)"
      ],
      "metadata": {
        "colab": {
          "base_uri": "https://localhost:8080/",
          "height": 295
        },
        "id": "uvaUS2sd1Rga",
        "outputId": "07fa44bf-c594-4f66-8b6b-2b32fc3c6797"
      },
      "execution_count": 31,
      "outputs": [
        {
          "output_type": "display_data",
          "data": {
            "image/png": "[encoded data removed]",
            "text/plain": [
              "<Figure size 432x288 with 1 Axes>"
            ]
          },
          "metadata": {
            "needs_background": "light"
          }
        }
      ]
    },
    {
      "cell_type": "code",
      "source": [
        "plot_accuracies(history)"
      ],
      "metadata": {
        "colab": {
          "base_uri": "https://localhost:8080/",
          "height": 295
        },
        "id": "l58iPS8Z2QlS",
        "outputId": "d1fc3b59-825c-4678-bdf0-6b9e9f085cbc"
      },
      "execution_count": 32,
      "outputs": [
        {
          "output_type": "display_data",
          "data": {
            "image/png": "[encoded data removed]",
            "text/plain": [
              "<Figure size 432x288 with 1 Axes>"
            ]
          },
          "metadata": {
            "needs_background": "light"
          }
        }
      ]
    },
    {
      "cell_type": "code",
      "source": [
        "evaluate(model, test_loader)"
      ],
      "metadata": {
        "colab": {
          "base_uri": "https://localhost:8080/"
        },
        "id": "P7FLQlOt2SAk",
        "outputId": "45d252cf-200e-4b67-9560-e1704e04dd6a"
      },
      "execution_count": 33,
      "outputs": [
        {
          "output_type": "execute_result",
          "data": {
            "text/plain": [
              "{'val_acc': 0.3813999891281128, 'val_loss': 1.8320207595825195}"
            ]
          },
          "metadata": {},
          "execution_count": 33
        }
      ]
    },
    {
      "cell_type": "code",
      "source": [
        "def imshow(img):\n",
        "    img = img / 2 + 0.5     # unnormalize\n",
        "    npimg = img.numpy()\n",
        "    \n",
        "    plt.figure(figsize=(16,4))\n",
        "    plt.imshow(np.transpose(npimg, (1, 2, 0)))\n",
        "    plt.show()\n",
        "\n",
        "batch = train_loader\n",
        "\n",
        "dataiter = iter(train_loader)\n",
        "images, labels = dataiter.next()\n",
        "\n",
        "imshow(torchvision.utils.make_grid(images))\n",
        "\n",
        "print(' '.join('%5s' % classes[labels[j]] for j in range(4)))"
      ],
      "metadata": {
        "colab": {
          "base_uri": "https://localhost:8080/",
          "height": 235
        },
        "id": "d1OxQ8tT54Sg",
        "outputId": "122bf72a-00ce-4490-dbb7-8c07fcf20b05"
      },
      "execution_count": 37,
      "outputs": [
        {
          "output_type": "error",
          "ename": "AttributeError",
          "evalue": "ignored",
          "traceback": [
            "\u001b[0;31m---------------------------------------------------------------------------\u001b[0m",
            "\u001b[0;31mAttributeError\u001b[0m                            Traceback (most recent call last)",
            "\u001b[0;32m<ipython-input-37-cb07335fe27e>\u001b[0m in \u001b[0;36m<module>\u001b[0;34m()\u001b[0m\n\u001b[1;32m     10\u001b[0m \u001b[0;34m\u001b[0m\u001b[0m\n\u001b[1;32m     11\u001b[0m \u001b[0mdataiter\u001b[0m \u001b[0;34m=\u001b[0m \u001b[0miter\u001b[0m\u001b[0;34m(\u001b[0m\u001b[0mtrain_loader\u001b[0m\u001b[0;34m)\u001b[0m\u001b[0;34m\u001b[0m\u001b[0;34m\u001b[0m\u001b[0m\n\u001b[0;32m---> 12\u001b[0;31m \u001b[0mimages\u001b[0m\u001b[0;34m,\u001b[0m \u001b[0mlabels\u001b[0m \u001b[0;34m=\u001b[0m \u001b[0mdataiter\u001b[0m\u001b[0;34m.\u001b[0m\u001b[0mnext\u001b[0m\u001b[0;34m(\u001b[0m\u001b[0;34m)\u001b[0m\u001b[0;34m\u001b[0m\u001b[0;34m\u001b[0m\u001b[0m\n\u001b[0m\u001b[1;32m     13\u001b[0m \u001b[0;34m\u001b[0m\u001b[0m\n\u001b[1;32m     14\u001b[0m \u001b[0mimshow\u001b[0m\u001b[0;34m(\u001b[0m\u001b[0mtorchvision\u001b[0m\u001b[0;34m.\u001b[0m\u001b[0mutils\u001b[0m\u001b[0;34m.\u001b[0m\u001b[0mmake_grid\u001b[0m\u001b[0;34m(\u001b[0m\u001b[0mimages\u001b[0m\u001b[0;34m)\u001b[0m\u001b[0;34m)\u001b[0m\u001b[0;34m\u001b[0m\u001b[0;34m\u001b[0m\u001b[0m\n",
            "\u001b[0;31mAttributeError\u001b[0m: 'generator' object has no attribute 'next'"
          ]
        }
      ]
    },
    {
      "cell_type": "markdown",
      "metadata": {
        "id": "VYEXVFIXqOhi"
      },
      "source": [
        "#### Упражнение 2\n",
        "Проанализируйте полученные результаты, уберите из обучающей выборки класс с наименьшей точностью, проведите повторное обучение.\n"
      ]
    },
    {
      "cell_type": "code",
      "execution_count": null,
      "metadata": {
        "id": "DFG8LEkkqOhi"
      },
      "outputs": [],
      "source": [
        ""
      ]
    },
    {
      "cell_type": "markdown",
      "metadata": {
        "id": "uHEAUmWXqOhi"
      },
      "source": [
        "- - -"
      ]
    },
    {
      "cell_type": "markdown",
      "metadata": {
        "id": "W2q3kmAQqOhi"
      },
      "source": [
        "## Оптимизация  обучения модели сверточной сети"
      ]
    },
    {
      "cell_type": "markdown",
      "metadata": {
        "id": "U-JaxWBCqOhi"
      },
      "source": [
        "**Инициализация весов модели**"
      ]
    },
    {
      "cell_type": "code",
      "execution_count": null,
      "metadata": {
        "id": "yGhScOO5qOhi"
      },
      "outputs": [],
      "source": [
        "cnn_net = CNNModel()\n",
        "        \n",
        "def init_weights(m):\n",
        "    # for differernt types of layers different initialization could be applied\n",
        "    if type(m) == nn.Linear:\n",
        "        torch.nn.init.kaiming_normal_(m.weight)\n",
        "        m.bias.data.fill_(0.01)\n",
        "    \n",
        "    #same as type(m) == nn.Conv2d, but more correct to use isinstance   \n",
        "    if isinstance(m, nn.Conv2d):  \n",
        "        torch.nn.init.xavier_uniform_(m.weight)\n",
        "        torch.nn.init.zeros_(m.bias)   \n",
        "\n",
        "cnn_net.apply(init_weights);"
      ]
    },
    {
      "cell_type": "code",
      "execution_count": null,
      "metadata": {
        "id": "EU6yCJ1lqOhi"
      },
      "outputs": [],
      "source": [
        "criterion = nn.CrossEntropyLoss()\n",
        "optimizer = torch.optim.Adam(cnn_net.parameters(), lr=0.001)"
      ]
    },
    {
      "cell_type": "markdown",
      "metadata": {
        "id": "2woUaaJHqOhi"
      },
      "source": [
        "Проверим как прошла инициализация для значений смещений"
      ]
    },
    {
      "cell_type": "code",
      "execution_count": null,
      "metadata": {
        "id": "5XnT1dbqqOhi",
        "outputId": "0ab6b05f-badc-493b-c5ea-e4547ee1e5c0"
      },
      "outputs": [
        {
          "name": "stdout",
          "output_type": "stream",
          "text": [
            "Parameter containing:\n",
            "tensor([0., 0., 0., 0., 0., 0.], requires_grad=True) \n",
            "\n",
            "Parameter containing:\n",
            "tensor([0., 0., 0., 0., 0., 0., 0., 0., 0., 0., 0., 0., 0., 0., 0., 0.],\n",
            "       requires_grad=True) \n",
            "\n",
            "Parameter containing:\n",
            "tensor([0., 0., 0., 0., 0., 0., 0., 0., 0., 0., 0., 0., 0., 0., 0., 0.],\n",
            "       requires_grad=True) \n",
            "\n",
            "Parameter containing:\n",
            "tensor([0.0100, 0.0100, 0.0100, 0.0100, 0.0100, 0.0100, 0.0100, 0.0100, 0.0100,\n",
            "        0.0100, 0.0100, 0.0100, 0.0100, 0.0100, 0.0100, 0.0100, 0.0100, 0.0100,\n",
            "        0.0100, 0.0100, 0.0100, 0.0100, 0.0100, 0.0100, 0.0100, 0.0100, 0.0100,\n",
            "        0.0100, 0.0100, 0.0100, 0.0100, 0.0100, 0.0100, 0.0100, 0.0100, 0.0100,\n",
            "        0.0100, 0.0100, 0.0100, 0.0100, 0.0100, 0.0100, 0.0100, 0.0100, 0.0100,\n",
            "        0.0100, 0.0100, 0.0100, 0.0100, 0.0100, 0.0100, 0.0100, 0.0100, 0.0100,\n",
            "        0.0100, 0.0100, 0.0100, 0.0100, 0.0100, 0.0100, 0.0100, 0.0100, 0.0100,\n",
            "        0.0100, 0.0100, 0.0100, 0.0100, 0.0100, 0.0100, 0.0100, 0.0100, 0.0100,\n",
            "        0.0100, 0.0100, 0.0100, 0.0100, 0.0100, 0.0100, 0.0100, 0.0100, 0.0100,\n",
            "        0.0100, 0.0100, 0.0100, 0.0100, 0.0100, 0.0100, 0.0100, 0.0100, 0.0100,\n",
            "        0.0100, 0.0100, 0.0100, 0.0100, 0.0100, 0.0100, 0.0100, 0.0100, 0.0100,\n",
            "        0.0100, 0.0100, 0.0100, 0.0100, 0.0100, 0.0100, 0.0100, 0.0100, 0.0100,\n",
            "        0.0100, 0.0100, 0.0100, 0.0100, 0.0100, 0.0100, 0.0100, 0.0100, 0.0100,\n",
            "        0.0100, 0.0100, 0.0100], requires_grad=True) \n",
            "\n",
            "Parameter containing:\n",
            "tensor([0.0100, 0.0100, 0.0100, 0.0100, 0.0100, 0.0100, 0.0100, 0.0100, 0.0100,\n",
            "        0.0100, 0.0100, 0.0100, 0.0100, 0.0100, 0.0100, 0.0100, 0.0100, 0.0100,\n",
            "        0.0100, 0.0100, 0.0100, 0.0100, 0.0100, 0.0100, 0.0100, 0.0100, 0.0100,\n",
            "        0.0100, 0.0100, 0.0100, 0.0100, 0.0100, 0.0100, 0.0100, 0.0100, 0.0100,\n",
            "        0.0100, 0.0100, 0.0100, 0.0100, 0.0100, 0.0100, 0.0100, 0.0100, 0.0100,\n",
            "        0.0100, 0.0100, 0.0100, 0.0100, 0.0100, 0.0100, 0.0100, 0.0100, 0.0100,\n",
            "        0.0100, 0.0100, 0.0100, 0.0100, 0.0100, 0.0100, 0.0100, 0.0100, 0.0100,\n",
            "        0.0100, 0.0100, 0.0100, 0.0100, 0.0100, 0.0100, 0.0100, 0.0100, 0.0100,\n",
            "        0.0100, 0.0100, 0.0100, 0.0100, 0.0100, 0.0100, 0.0100, 0.0100, 0.0100,\n",
            "        0.0100, 0.0100, 0.0100], requires_grad=True) \n",
            "\n",
            "Parameter containing:\n",
            "tensor([0.0100, 0.0100, 0.0100, 0.0100, 0.0100, 0.0100, 0.0100, 0.0100, 0.0100,\n",
            "        0.0100], requires_grad=True) \n",
            "\n"
          ]
        }
      ],
      "source": [
        "for name, p in cnn_net.named_parameters():    \n",
        "    if 'bias' in name:\n",
        "        print(p,'\\n')"
      ]
    },
    {
      "cell_type": "markdown",
      "metadata": {
        "id": "0lE4Hp0fqOhi"
      },
      "source": [
        "Также посмортим веса для одного из слоев"
      ]
    },
    {
      "cell_type": "code",
      "execution_count": null,
      "metadata": {
        "id": "4HUFuQNdqOhi",
        "outputId": "62425ea4-cf09-4106-9953-de27d424c6a0"
      },
      "outputs": [
        {
          "name": "stdout",
          "output_type": "stream",
          "text": [
            "Parameter containing:\n",
            "tensor([[-0.0049,  0.1568, -0.1938,  ...,  0.0210,  0.2001,  0.0854],\n",
            "        [ 0.2390,  0.1583,  0.1660,  ...,  0.2324, -0.1878, -0.0452],\n",
            "        [-0.1908,  0.0208, -0.0475,  ..., -0.1081, -0.0418,  0.0394],\n",
            "        ...,\n",
            "        [-0.1874, -0.2636,  0.0752,  ...,  0.1175, -0.1062, -0.1552],\n",
            "        [ 0.0119, -0.1899, -0.2029,  ...,  0.1675,  0.0606, -0.0726],\n",
            "        [ 0.2841,  0.1060, -0.0233,  ..., -0.1134, -0.0474,  0.1394]],\n",
            "       requires_grad=True)\n"
          ]
        }
      ],
      "source": [
        "print(cnn_net.fc2.weight)"
      ]
    },
    {
      "cell_type": "markdown",
      "metadata": {
        "id": "8bzRkXAFqOhi"
      },
      "source": [
        "**Регуляризаия**"
      ]
    },
    {
      "cell_type": "markdown",
      "metadata": {
        "id": "Girfbs1sqOhi"
      },
      "source": [
        "используем эластическую регуляризацию для весов и для смещения."
      ]
    },
    {
      "cell_type": "code",
      "execution_count": null,
      "metadata": {
        "id": "vMCPls8BqOhi",
        "outputId": "4e8ece48-677e-4ee9-a68b-f71785c8f4d7"
      },
      "outputs": [
        {
          "name": "stdout",
          "output_type": "stream",
          "text": [
            "[1,  2000] loss: 2.244\n",
            "[1,  4000] loss: 1.931\n",
            "[1,  6000] loss: 1.801\n",
            "[1,  8000] loss: 1.731\n",
            "[1, 10000] loss: 1.704\n",
            "[1, 12000] loss: 1.662\n",
            "[2,  2000] loss: 1.621\n",
            "[2,  4000] loss: 1.619\n",
            "[2,  6000] loss: 1.598\n",
            "[2,  8000] loss: 1.592\n",
            "[2, 10000] loss: 1.588\n"
          ]
        },
        {
          "ename": "KeyboardInterrupt",
          "evalue": "",
          "output_type": "error",
          "traceback": [
            "\u001b[1;31m---------------------------------------------------------------------------\u001b[0m",
            "\u001b[1;31mKeyboardInterrupt\u001b[0m                         Traceback (most recent call last)",
            "\u001b[1;32m<ipython-input-35-ace0efcf3cc4>\u001b[0m in \u001b[0;36m<module>\u001b[1;34m\u001b[0m\n\u001b[0;32m     21\u001b[0m \u001b[1;33m\u001b[0m\u001b[0m\n\u001b[0;32m     22\u001b[0m         \u001b[1;32mfor\u001b[0m \u001b[0mp\u001b[0m \u001b[1;32min\u001b[0m \u001b[0mcnn_net\u001b[0m\u001b[1;33m.\u001b[0m\u001b[0mparameters\u001b[0m\u001b[1;33m(\u001b[0m\u001b[1;33m)\u001b[0m\u001b[1;33m:\u001b[0m\u001b[1;33m\u001b[0m\u001b[1;33m\u001b[0m\u001b[0m\n\u001b[1;32m---> 23\u001b[1;33m             \u001b[0ml1_regularization\u001b[0m \u001b[1;33m+=\u001b[0m \u001b[0mtorch\u001b[0m\u001b[1;33m.\u001b[0m\u001b[0mabs\u001b[0m\u001b[1;33m(\u001b[0m\u001b[0mp\u001b[0m\u001b[1;33m)\u001b[0m\u001b[1;33m.\u001b[0m\u001b[0msum\u001b[0m\u001b[1;33m(\u001b[0m\u001b[1;33m)\u001b[0m\u001b[1;33m\u001b[0m\u001b[1;33m\u001b[0m\u001b[0m\n\u001b[0m\u001b[0;32m     24\u001b[0m             \u001b[0ml2_regularization\u001b[0m \u001b[1;33m+=\u001b[0m \u001b[0mtorch\u001b[0m\u001b[1;33m.\u001b[0m\u001b[0mpow\u001b[0m\u001b[1;33m(\u001b[0m\u001b[0mp\u001b[0m\u001b[1;33m,\u001b[0m\u001b[1;36m2\u001b[0m\u001b[1;33m)\u001b[0m\u001b[1;33m.\u001b[0m\u001b[0msum\u001b[0m\u001b[1;33m(\u001b[0m\u001b[1;33m)\u001b[0m\u001b[1;33m\u001b[0m\u001b[1;33m\u001b[0m\u001b[0m\n\u001b[0;32m     25\u001b[0m \u001b[1;33m\u001b[0m\u001b[0m\n",
            "\u001b[1;31mKeyboardInterrupt\u001b[0m: "
          ]
        }
      ],
      "source": [
        "EPOHS = 5\n",
        "lambda_l1 = 1e-5\n",
        "lambda_l2 = 1e-3\n",
        "for epoch in range(EPOHS):  # loop over the dataset multiple times\n",
        "    cnn_net.train()\n",
        "    running_loss = 0.0\n",
        "    for i, data in enumerate(trainloader, 0):\n",
        "        \n",
        "        # get the inputs; data is a list of [inputs, labels]\n",
        "        inputs, labels = data\n",
        "\n",
        "        # zero the parameter gradients\n",
        "        optimizer.zero_grad()\n",
        "\n",
        "        # forward + backward + optimize        \n",
        "        outputs = cnn_net(inputs)        \n",
        "        loss    = criterion(outputs, labels)\n",
        "        \n",
        "        l1_regularization = 0\n",
        "        l2_regularization = 0\n",
        "        \n",
        "        for p in cnn_net.parameters():\n",
        "            l1_regularization += torch.abs(p).sum()\n",
        "            l2_regularization += torch.pow(p,2).sum()     \n",
        "\n",
        "        loss += lambda_l1*l1_regularization + lambda_l2*l2_regularization\n",
        "        \n",
        "        loss.backward()\n",
        "        optimizer.step()\n",
        "\n",
        "        # print statistics\n",
        "        running_loss += loss.item()\n",
        "        \n",
        "        if i % 2000 == 1999:    # print every 2000 mini-batches\n",
        "            print('[%d, %5d] loss: %.3f' %\n",
        "                  (epoch + 1, i + 1, running_loss / 2000))\n",
        "            running_loss = 0.0\n",
        "\n",
        "\n",
        "print('Finished Training')"
      ]
    },
    {
      "cell_type": "markdown",
      "metadata": {
        "id": "U-hO_efaqOhi"
      },
      "source": [
        "посмотрим на результат\n"
      ]
    },
    {
      "cell_type": "code",
      "execution_count": null,
      "metadata": {
        "id": "IX81WUTXqOhi"
      },
      "outputs": [],
      "source": [
        "cnn_net.eval()\n",
        "class_correct = list(0. for i in range(10))\n",
        "class_total   = list(0. for i in range(10))\n",
        "with torch.no_grad():\n",
        "    for data in testloader:\n",
        "        images, labels = data\n",
        "        outputs = cnn_net(images)\n",
        "        _, predicted = torch.max(outputs, 1)\n",
        "        c = (predicted == labels).squeeze()\n",
        "        for i in range(4):\n",
        "            label = labels[i]\n",
        "            class_correct[label] += c[i].item()\n",
        "            class_total[label]   += 1\n",
        "\n",
        "for i in range(10):\n",
        "    print('Accuracy of %5s : %2d %%' % (\n",
        "        classes[i], 100 * class_correct[i] / class_total[i]))"
      ]
    },
    {
      "cell_type": "markdown",
      "metadata": {
        "id": "MsXXw8KwqOhi"
      },
      "source": [
        "#### Упражнение 3\n",
        "Проведите инициализацию смещения слоя батч-нормализации нулями.\n"
      ]
    },
    {
      "cell_type": "code",
      "execution_count": null,
      "metadata": {
        "id": "45wiuEGQqOhi"
      },
      "outputs": [],
      "source": [
        ""
      ]
    },
    {
      "cell_type": "markdown",
      "metadata": {
        "id": "H0LkE75uqOhi"
      },
      "source": [
        "#### Упражнение 4\n",
        "1. Исключите из регуляризации слой батч-нормализации.\n",
        "2. Введите особую процедуру регуляризации для выходного слоя сети\n",
        "<details>\n",
        "<summary>Click here for hint</summary>\n",
        "  Обратится к конкретному слою можно\n",
        "```\n",
        "    torch.norm(model.fc1.weight, p=1)\n",
        "```"
      ]
    },
    {
      "cell_type": "code",
      "execution_count": null,
      "metadata": {
        "id": "LsX1ODoVqOhi"
      },
      "outputs": [],
      "source": [
        ""
      ]
    },
    {
      "cell_type": "markdown",
      "metadata": {
        "id": "U5lquvlBZAR6"
      },
      "source": [
        "## Перенос обучения"
      ]
    },
    {
      "cell_type": "markdown",
      "metadata": {
        "id": "LksnAp96ZAR6"
      },
      "source": [
        "На практике очень редко кто-то пытается обучить всю сверточную сеть с нуля (со случайной инициализацией), потому что относительно редко имеется набор данных достаточного размера и достаточное время/вычислительные рессурсы для обучения. Вместо этого обычно используют предварительно обученную сеть (предобученную на очень большом наборе данных, например, ImageNet, который содержит 1,2 миллиона изображений с 1000 категориями). Результаты предобученной сети используют либо как инициализацию, либо как фиксированный экстрактор признаков (кодировщик признаков)."
      ]
    },
    {
      "cell_type": "code",
      "execution_count": null,
      "metadata": {
        "id": "qnqkdK7RZAR6"
      },
      "outputs": [],
      "source": [
        "import torch\n",
        "import torch.nn as nn\n",
        "import torch.optim as optim\n",
        "from torch.optim import lr_scheduler\n",
        "import numpy as np\n",
        "import torchvision\n",
        "from torchvision import datasets, models, transforms\n",
        "import matplotlib.pyplot as plt\n",
        "from torchsummary import summary"
      ]
    },
    {
      "cell_type": "markdown",
      "metadata": {
        "id": "xMDnvk6VZAR6"
      },
      "source": [
        "Загрузим предварительно обученную модель ResNet18"
      ]
    },
    {
      "cell_type": "code",
      "execution_count": null,
      "metadata": {
        "id": "iQN870V9ZAR6",
        "outputId": "6cca37ad-8d8e-4483-884f-8ae81b1279e8"
      },
      "outputs": [
        {
          "name": "stdout",
          "output_type": "stream",
          "text": [
            "----------------------------------------------------------------\n",
            "        Layer (type)               Output Shape         Param #\n",
            "================================================================\n",
            "            Conv2d-1           [-1, 64, 16, 16]           9,408\n",
            "       BatchNorm2d-2           [-1, 64, 16, 16]             128\n",
            "              ReLU-3           [-1, 64, 16, 16]               0\n",
            "         MaxPool2d-4             [-1, 64, 8, 8]               0\n",
            "            Conv2d-5             [-1, 64, 8, 8]          36,864\n",
            "       BatchNorm2d-6             [-1, 64, 8, 8]             128\n",
            "              ReLU-7             [-1, 64, 8, 8]               0\n",
            "            Conv2d-8             [-1, 64, 8, 8]          36,864\n",
            "       BatchNorm2d-9             [-1, 64, 8, 8]             128\n",
            "             ReLU-10             [-1, 64, 8, 8]               0\n",
            "       BasicBlock-11             [-1, 64, 8, 8]               0\n",
            "           Conv2d-12             [-1, 64, 8, 8]          36,864\n",
            "      BatchNorm2d-13             [-1, 64, 8, 8]             128\n",
            "             ReLU-14             [-1, 64, 8, 8]               0\n",
            "           Conv2d-15             [-1, 64, 8, 8]          36,864\n",
            "      BatchNorm2d-16             [-1, 64, 8, 8]             128\n",
            "             ReLU-17             [-1, 64, 8, 8]               0\n",
            "       BasicBlock-18             [-1, 64, 8, 8]               0\n",
            "           Conv2d-19            [-1, 128, 4, 4]          73,728\n",
            "      BatchNorm2d-20            [-1, 128, 4, 4]             256\n",
            "             ReLU-21            [-1, 128, 4, 4]               0\n",
            "           Conv2d-22            [-1, 128, 4, 4]         147,456\n",
            "      BatchNorm2d-23            [-1, 128, 4, 4]             256\n",
            "           Conv2d-24            [-1, 128, 4, 4]           8,192\n",
            "      BatchNorm2d-25            [-1, 128, 4, 4]             256\n",
            "             ReLU-26            [-1, 128, 4, 4]               0\n",
            "       BasicBlock-27            [-1, 128, 4, 4]               0\n",
            "           Conv2d-28            [-1, 128, 4, 4]         147,456\n",
            "      BatchNorm2d-29            [-1, 128, 4, 4]             256\n",
            "             ReLU-30            [-1, 128, 4, 4]               0\n",
            "           Conv2d-31            [-1, 128, 4, 4]         147,456\n",
            "      BatchNorm2d-32            [-1, 128, 4, 4]             256\n",
            "             ReLU-33            [-1, 128, 4, 4]               0\n",
            "       BasicBlock-34            [-1, 128, 4, 4]               0\n",
            "           Conv2d-35            [-1, 256, 2, 2]         294,912\n",
            "      BatchNorm2d-36            [-1, 256, 2, 2]             512\n",
            "             ReLU-37            [-1, 256, 2, 2]               0\n",
            "           Conv2d-38            [-1, 256, 2, 2]         589,824\n",
            "      BatchNorm2d-39            [-1, 256, 2, 2]             512\n",
            "           Conv2d-40            [-1, 256, 2, 2]          32,768\n",
            "      BatchNorm2d-41            [-1, 256, 2, 2]             512\n",
            "             ReLU-42            [-1, 256, 2, 2]               0\n",
            "       BasicBlock-43            [-1, 256, 2, 2]               0\n",
            "           Conv2d-44            [-1, 256, 2, 2]         589,824\n",
            "      BatchNorm2d-45            [-1, 256, 2, 2]             512\n",
            "             ReLU-46            [-1, 256, 2, 2]               0\n",
            "           Conv2d-47            [-1, 256, 2, 2]         589,824\n",
            "      BatchNorm2d-48            [-1, 256, 2, 2]             512\n",
            "             ReLU-49            [-1, 256, 2, 2]               0\n",
            "       BasicBlock-50            [-1, 256, 2, 2]               0\n",
            "           Conv2d-51            [-1, 512, 1, 1]       1,179,648\n",
            "      BatchNorm2d-52            [-1, 512, 1, 1]           1,024\n",
            "             ReLU-53            [-1, 512, 1, 1]               0\n",
            "           Conv2d-54            [-1, 512, 1, 1]       2,359,296\n",
            "      BatchNorm2d-55            [-1, 512, 1, 1]           1,024\n",
            "           Conv2d-56            [-1, 512, 1, 1]         131,072\n",
            "      BatchNorm2d-57            [-1, 512, 1, 1]           1,024\n",
            "             ReLU-58            [-1, 512, 1, 1]               0\n",
            "       BasicBlock-59            [-1, 512, 1, 1]               0\n",
            "           Conv2d-60            [-1, 512, 1, 1]       2,359,296\n",
            "      BatchNorm2d-61            [-1, 512, 1, 1]           1,024\n",
            "             ReLU-62            [-1, 512, 1, 1]               0\n",
            "           Conv2d-63            [-1, 512, 1, 1]       2,359,296\n",
            "      BatchNorm2d-64            [-1, 512, 1, 1]           1,024\n",
            "             ReLU-65            [-1, 512, 1, 1]               0\n",
            "       BasicBlock-66            [-1, 512, 1, 1]               0\n",
            "AdaptiveAvgPool2d-67            [-1, 512, 1, 1]               0\n",
            "           Linear-68                 [-1, 1000]         513,000\n",
            "================================================================\n",
            "Total params: 11,689,512\n",
            "Trainable params: 11,689,512\n",
            "Non-trainable params: 0\n",
            "----------------------------------------------------------------\n",
            "Input size (MB): 0.01\n",
            "Forward/backward pass size (MB): 1.29\n",
            "Params size (MB): 44.59\n",
            "Estimated Total Size (MB): 45.90\n",
            "----------------------------------------------------------------\n"
          ]
        }
      ],
      "source": [
        "resnet = torchvision.models.resnet18(pretrained=True)\n",
        "summary(resnet,input_size=(3, 32, 32))"
      ]
    },
    {
      "cell_type": "code",
      "execution_count": null,
      "metadata": {
        "id": "Gx0dgdWcZAR7",
        "outputId": "256e2f3f-32e7-4f5d-a2c0-0c1cba389dd4"
      },
      "outputs": [
        {
          "name": "stdout",
          "output_type": "stream",
          "text": [
            "conv1.weight \t structure = [64, 3, 7, 7]\n",
            "bn1.weight \t structure = [64]\n",
            "bn1.bias \t structure = [64]\n",
            "layer1.0.conv1.weight \t structure = [64, 64, 3, 3]\n",
            "layer1.0.bn1.weight \t structure = [64]\n",
            "layer1.0.bn1.bias \t structure = [64]\n",
            "layer1.0.conv2.weight \t structure = [64, 64, 3, 3]\n",
            "layer1.0.bn2.weight \t structure = [64]\n",
            "layer1.0.bn2.bias \t structure = [64]\n",
            "layer1.1.conv1.weight \t structure = [64, 64, 3, 3]\n",
            "layer1.1.bn1.weight \t structure = [64]\n",
            "layer1.1.bn1.bias \t structure = [64]\n",
            "layer1.1.conv2.weight \t structure = [64, 64, 3, 3]\n",
            "layer1.1.bn2.weight \t structure = [64]\n",
            "layer1.1.bn2.bias \t structure = [64]\n",
            "layer2.0.conv1.weight \t structure = [128, 64, 3, 3]\n",
            "layer2.0.bn1.weight \t structure = [128]\n",
            "layer2.0.bn1.bias \t structure = [128]\n",
            "layer2.0.conv2.weight \t structure = [128, 128, 3, 3]\n",
            "layer2.0.bn2.weight \t structure = [128]\n",
            "layer2.0.bn2.bias \t structure = [128]\n",
            "layer2.0.downsample.0.weight \t structure = [128, 64, 1, 1]\n",
            "layer2.0.downsample.1.weight \t structure = [128]\n",
            "layer2.0.downsample.1.bias \t structure = [128]\n",
            "layer2.1.conv1.weight \t structure = [128, 128, 3, 3]\n",
            "layer2.1.bn1.weight \t structure = [128]\n",
            "layer2.1.bn1.bias \t structure = [128]\n",
            "layer2.1.conv2.weight \t structure = [128, 128, 3, 3]\n",
            "layer2.1.bn2.weight \t structure = [128]\n",
            "layer2.1.bn2.bias \t structure = [128]\n",
            "layer3.0.conv1.weight \t structure = [256, 128, 3, 3]\n",
            "layer3.0.bn1.weight \t structure = [256]\n",
            "layer3.0.bn1.bias \t structure = [256]\n",
            "layer3.0.conv2.weight \t structure = [256, 256, 3, 3]\n",
            "layer3.0.bn2.weight \t structure = [256]\n",
            "layer3.0.bn2.bias \t structure = [256]\n",
            "layer3.0.downsample.0.weight \t structure = [256, 128, 1, 1]\n",
            "layer3.0.downsample.1.weight \t structure = [256]\n",
            "layer3.0.downsample.1.bias \t structure = [256]\n",
            "layer3.1.conv1.weight \t structure = [256, 256, 3, 3]\n",
            "layer3.1.bn1.weight \t structure = [256]\n",
            "layer3.1.bn1.bias \t structure = [256]\n",
            "layer3.1.conv2.weight \t structure = [256, 256, 3, 3]\n",
            "layer3.1.bn2.weight \t structure = [256]\n",
            "layer3.1.bn2.bias \t structure = [256]\n",
            "layer4.0.conv1.weight \t structure = [512, 256, 3, 3]\n",
            "layer4.0.bn1.weight \t structure = [512]\n",
            "layer4.0.bn1.bias \t structure = [512]\n",
            "layer4.0.conv2.weight \t structure = [512, 512, 3, 3]\n",
            "layer4.0.bn2.weight \t structure = [512]\n",
            "layer4.0.bn2.bias \t structure = [512]\n",
            "layer4.0.downsample.0.weight \t structure = [512, 256, 1, 1]\n",
            "layer4.0.downsample.1.weight \t structure = [512]\n",
            "layer4.0.downsample.1.bias \t structure = [512]\n",
            "layer4.1.conv1.weight \t structure = [512, 512, 3, 3]\n",
            "layer4.1.bn1.weight \t structure = [512]\n",
            "layer4.1.bn1.bias \t structure = [512]\n",
            "layer4.1.conv2.weight \t structure = [512, 512, 3, 3]\n",
            "layer4.1.bn2.weight \t structure = [512]\n",
            "layer4.1.bn2.bias \t structure = [512]\n",
            "fc.weight \t structure = [1000, 512]\n",
            "fc.bias \t structure = [1000]\n"
          ]
        }
      ],
      "source": [
        "for name, param in resnet.named_parameters():\n",
        "    print(name, '\\t structure =',list(param.size()))"
      ]
    },
    {
      "cell_type": "markdown",
      "metadata": {
        "id": "r-HDLAJpZAR7"
      },
      "source": [
        "Теперь нам нужно заморозить все параметры для экстрактора признаков. Для этого нам нужно установить `requires_grad == False`, чтобы заморозить параметры, чтобы градиенты не вычислялись в `backward()`."
      ]
    },
    {
      "cell_type": "code",
      "execution_count": null,
      "metadata": {
        "id": "XHIp2y-NZAR7"
      },
      "outputs": [],
      "source": [
        "#freeze all parameters\n",
        "for param in resnet.parameters():\n",
        "    param.requires_grad = False"
      ]
    },
    {
      "cell_type": "markdown",
      "metadata": {
        "id": "RdCo2advZAR7"
      },
      "source": [
        "Для создания нашего собственного классификатора нам нужно сбросить последний полносвязанный слой."
      ]
    },
    {
      "cell_type": "code",
      "execution_count": null,
      "metadata": {
        "id": "OQ10H3b7ZAR7",
        "outputId": "8ec015d9-d768-4286-d10c-c6d9709fc552"
      },
      "outputs": [
        {
          "ename": "NameError",
          "evalue": "name 'classes' is not defined",
          "output_type": "error",
          "traceback": [
            "\u001b[1;31m---------------------------------------------------------------------------\u001b[0m",
            "\u001b[1;31mNameError\u001b[0m                                 Traceback (most recent call last)",
            "\u001b[1;32m<ipython-input-7-64edd8e9d67f>\u001b[0m in \u001b[0;36m<module>\u001b[1;34m\u001b[0m\n\u001b[0;32m      2\u001b[0m \u001b[0mnum_ftrs\u001b[0m \u001b[1;33m=\u001b[0m \u001b[0mresnet\u001b[0m\u001b[1;33m.\u001b[0m\u001b[0mfc\u001b[0m\u001b[1;33m.\u001b[0m\u001b[0min_features\u001b[0m\u001b[1;33m\u001b[0m\u001b[1;33m\u001b[0m\u001b[0m\n\u001b[0;32m      3\u001b[0m \u001b[1;33m\u001b[0m\u001b[0m\n\u001b[1;32m----> 4\u001b[1;33m \u001b[0mresnet\u001b[0m\u001b[1;33m.\u001b[0m\u001b[0mfc\u001b[0m \u001b[1;33m=\u001b[0m \u001b[0mnn\u001b[0m\u001b[1;33m.\u001b[0m\u001b[0mLinear\u001b[0m\u001b[1;33m(\u001b[0m\u001b[0mnum_ftrs\u001b[0m\u001b[1;33m,\u001b[0m \u001b[0mlen\u001b[0m\u001b[1;33m(\u001b[0m\u001b[0mclasses\u001b[0m\u001b[1;33m)\u001b[0m\u001b[1;33m)\u001b[0m\u001b[1;33m\u001b[0m\u001b[1;33m\u001b[0m\u001b[0m\n\u001b[0m",
            "\u001b[1;31mNameError\u001b[0m: name 'classes' is not defined"
          ]
        }
      ],
      "source": [
        "# Parameters of newly constructed modules have requires_grad=True by default\n",
        "num_ftrs = resnet.fc.in_features\n",
        "\n",
        "resnet.fc = nn.Linear(num_ftrs, len(classes))\n"
      ]
    },
    {
      "cell_type": "markdown",
      "metadata": {
        "id": "uocF4XYRZAR8"
      },
      "source": [
        "Определим особенности дообучения сети. Будем обучать только последний слой."
      ]
    },
    {
      "cell_type": "code",
      "execution_count": null,
      "metadata": {
        "scrolled": true,
        "id": "s96bFfkkZAR8",
        "outputId": "63d90680-720b-403e-c3d1-fa260ed5e102"
      },
      "outputs": [
        {
          "ename": "NameError",
          "evalue": "name 'device' is not defined",
          "output_type": "error",
          "traceback": [
            "\u001b[1;31m---------------------------------------------------------------------------\u001b[0m",
            "\u001b[1;31mNameError\u001b[0m                                 Traceback (most recent call last)",
            "\u001b[1;32m<ipython-input-9-e9dc103a3971>\u001b[0m in \u001b[0;36m<module>\u001b[1;34m\u001b[0m\n\u001b[1;32m----> 1\u001b[1;33m \u001b[0mresnet\u001b[0m \u001b[1;33m=\u001b[0m \u001b[0mresnet\u001b[0m\u001b[1;33m.\u001b[0m\u001b[0mto\u001b[0m\u001b[1;33m(\u001b[0m\u001b[0mdevice\u001b[0m\u001b[1;33m)\u001b[0m\u001b[1;33m\u001b[0m\u001b[1;33m\u001b[0m\u001b[0m\n\u001b[0m\u001b[0;32m      2\u001b[0m \u001b[1;33m\u001b[0m\u001b[0m\n\u001b[0;32m      3\u001b[0m \u001b[0mcriterion\u001b[0m \u001b[1;33m=\u001b[0m \u001b[0mnn\u001b[0m\u001b[1;33m.\u001b[0m\u001b[0mCrossEntropyLoss\u001b[0m\u001b[1;33m(\u001b[0m\u001b[1;33m)\u001b[0m\u001b[1;33m\u001b[0m\u001b[1;33m\u001b[0m\u001b[0m\n\u001b[0;32m      4\u001b[0m \u001b[1;33m\u001b[0m\u001b[0m\n\u001b[0;32m      5\u001b[0m \u001b[1;31m# Observe that only parameters of final layer are being optimized as\u001b[0m\u001b[1;33m\u001b[0m\u001b[1;33m\u001b[0m\u001b[1;33m\u001b[0m\u001b[0m\n",
            "\u001b[1;31mNameError\u001b[0m: name 'device' is not defined"
          ]
        }
      ],
      "source": [
        "resnet = resnet.to(device)\n",
        "\n",
        "criterion = nn.CrossEntropyLoss()\n",
        "\n",
        "# Observe that only parameters of final layer are being optimized as\n",
        "# opposed to before.\n",
        "optimizer_resnet = optim.SGD(model_conv.fc.parameters(), lr=0.001, momentum=0.9)\n",
        "\n",
        "# Decay LR by a factor of 0.1 every 7 epochs\n",
        "exp_lr_scheduler = lr_scheduler.StepLR(optimizer_conv, step_size=7, gamma=0.1)"
      ]
    },
    {
      "cell_type": "code",
      "execution_count": null,
      "metadata": {
        "id": "W_rddrR7ZAR8"
      },
      "outputs": [],
      "source": [
        "EPOHS = 5\n",
        "\n",
        "for epoch in range(EPOHS):  # loop over the dataset multiple times\n",
        "    resnet.train()\n",
        "    running_loss = 0.0\n",
        "    for i, data in enumerate(trainloader, 0):\n",
        "        \n",
        "        # get the inputs; data is a list of [inputs, labels]\n",
        "        inputs, labels = data\n",
        "\n",
        "        # zero the parameter gradients\n",
        "        optimizer_resnet.zero_grad()\n",
        "\n",
        "        # forward + backward + optimize        \n",
        "        outputs = resnet(inputs)        \n",
        " \n",
        "        loss    = criterion(outputs, labels)\n",
        "        \n",
        "        loss.backward()\n",
        "        \n",
        "        optimizer_resnet.step()\n",
        "\n",
        "        # print statistics\n",
        "        running_loss += loss.item()\n",
        "        \n",
        "        if i % 2000 == 1999:    # print every 2000 mini-batches\n",
        "            print('[%d, %5d] loss: %.3f' %\n",
        "                  (epoch + 1, i + 1, running_loss / 2000))\n",
        "            running_loss = 0.0\n",
        "\n",
        "print('Finished Training')"
      ]
    },
    {
      "cell_type": "code",
      "execution_count": null,
      "metadata": {
        "id": "iRvt3AMiZAR8"
      },
      "outputs": [],
      "source": [
        "resnet.eval()\n",
        "class_correct = list(0. for i in range(10))\n",
        "class_total   = list(0. for i in range(10))\n",
        "\n",
        "with torch.no_grad():\n",
        "    for data in testloader:\n",
        "        images, labels = data\n",
        "        outputs = resnet(images)\n",
        "       \n",
        "        _, predicted = torch.max(outputs, 1)\n",
        "        c = (predicted == labels).squeeze()\n",
        "        \n",
        "        for i in range(4):\n",
        "            label = labels[i]\n",
        "            class_correct[label] += c[i].item()\n",
        "            class_total[label]   += 1\n",
        "\n",
        "\n",
        "for i in range(10):\n",
        "    print('Accuracy of %5s : %2d %%' % (\n",
        "        classes[i], 100 * class_correct[i] / class_total[i]))"
      ]
    },
    {
      "cell_type": "markdown",
      "metadata": {
        "id": "wyJPve8ZZAR8"
      },
      "source": [
        "### Упражнение 5\n",
        "1. Переобучить сеть resnet полностью (используя предобученные параметры как инициализацию).\n",
        "2. Сравните результаты с полученными выше.\n",
        "\n",
        "*Примечание* Если у вас нет GPU, то рекомендуем использовать Google Colab c включенным GPU.\n",
        "Для смены среды выполнения (**runtime**) выбирите **Change runtime type** в соответствующем меню.\n",
        "<br><u><b><Large>После экспериментов не забудьте вернуть среду на `None` так как время выделяемое для работы GPU ограничено.<b><u>\n",
        "\n",
        "<img src=\"https://cdn.analyticsvidhya.com/wp-content/uploads/2020/03/uc14.png\" width=\"500\">\n",
        "<img src=\"https://course.fast.ai/images/colab/04.png\" width=\"350\">\n"
      ]
    },
    {
      "cell_type": "code",
      "execution_count": null,
      "metadata": {
        "id": "MzJfsz8_ZAR9"
      },
      "outputs": [],
      "source": [
        ""
      ]
    },
    {
      "cell_type": "markdown",
      "metadata": {
        "id": "SW2hW1awqOhi"
      },
      "source": [
        "- - -"
      ]
    }
  ],
  "metadata": {
    "colab": {
      "name": "ЛР5-CNN-class_transfer.ipynb",
      "provenance": [],
      "toc_visible": true,
      "include_colab_link": true
    },
    "kernelspec": {
      "display_name": "Python 3",
      "language": "python",
      "name": "python3"
    },
    "language_info": {
      "codemirror_mode": {
        "name": "ipython",
        "version": 3
      },
      "file_extension": ".py",
      "mimetype": "text/x-python",
      "name": "python",
      "nbconvert_exporter": "python",
      "pygments_lexer": "ipython3",
      "version": "3.7.0"
    },
    "widgets": {
      "application/vnd.jupyter.widget-state+json": {
        "85bafeb082a7427186aee1f178c73e6f": {
          "model_module": "@jupyter-widgets/controls",
          "model_name": "HBoxModel",
          "model_module_version": "1.5.0",
          "state": {
            "_view_name": "HBoxView",
            "_dom_classes": [],
            "_model_name": "HBoxModel",
            "_view_module": "@jupyter-widgets/controls",
            "_model_module_version": "1.5.0",
            "_view_count": null,
            "_view_module_version": "1.5.0",
            "box_style": "",
            "layout": "IPY_MODEL_dd0e0e88b16c4190a6382e554e6b173f",
            "_model_module": "@jupyter-widgets/controls",
            "children": [
              "IPY_MODEL_bb299bb6507e4b3da68d0db4c774503c",
              "IPY_MODEL_84c6165376bd493b85af5ff330ec571b",
              "IPY_MODEL_08293c853cdb4ebdadd8451973f430b2"
            ]
          }
        },
        "dd0e0e88b16c4190a6382e554e6b173f": {
          "model_module": "@jupyter-widgets/base",
          "model_name": "LayoutModel",
          "model_module_version": "1.2.0",
          "state": {
            "_view_name": "LayoutView",
            "grid_template_rows": null,
            "right": null,
            "justify_content": null,
            "_view_module": "@jupyter-widgets/base",
            "overflow": null,
            "_model_module_version": "1.2.0",
            "_view_count": null,
            "flex_flow": null,
            "width": null,
            "min_width": null,
            "border": null,
            "align_items": null,
            "bottom": null,
            "_model_module": "@jupyter-widgets/base",
            "top": null,
            "grid_column": null,
            "overflow_y": null,
            "overflow_x": null,
            "grid_auto_flow": null,
            "grid_area": null,
            "grid_template_columns": null,
            "flex": null,
            "_model_name": "LayoutModel",
            "justify_items": null,
            "grid_row": null,
            "max_height": null,
            "align_content": null,
            "visibility": null,
            "align_self": null,
            "height": null,
            "min_height": null,
            "padding": null,
            "grid_auto_rows": null,
            "grid_gap": null,
            "max_width": null,
            "order": null,
            "_view_module_version": "1.2.0",
            "grid_template_areas": null,
            "object_position": null,
            "object_fit": null,
            "grid_auto_columns": null,
            "margin": null,
            "display": null,
            "left": null
          }
        },
        "bb299bb6507e4b3da68d0db4c774503c": {
          "model_module": "@jupyter-widgets/controls",
          "model_name": "HTMLModel",
          "model_module_version": "1.5.0",
          "state": {
            "_view_name": "HTMLView",
            "style": "IPY_MODEL_d851f540b51e4f4f928bab011ab55c81",
            "_dom_classes": [],
            "description": "",
            "_model_name": "HTMLModel",
            "placeholder": "​",
            "_view_module": "@jupyter-widgets/controls",
            "_model_module_version": "1.5.0",
            "value": "",
            "_view_count": null,
            "_view_module_version": "1.5.0",
            "description_tooltip": null,
            "_model_module": "@jupyter-widgets/controls",
            "layout": "IPY_MODEL_d0269a380d3247f0ba8ab3d9ced8394d"
          }
        },
        "84c6165376bd493b85af5ff330ec571b": {
          "model_module": "@jupyter-widgets/controls",
          "model_name": "FloatProgressModel",
          "model_module_version": "1.5.0",
          "state": {
            "_view_name": "ProgressView",
            "style": "IPY_MODEL_656121b75cdc46b3a40756d6e2b54225",
            "_dom_classes": [],
            "description": "",
            "_model_name": "FloatProgressModel",
            "bar_style": "success",
            "max": 170498071,
            "_view_module": "@jupyter-widgets/controls",
            "_model_module_version": "1.5.0",
            "value": 170498071,
            "_view_count": null,
            "_view_module_version": "1.5.0",
            "orientation": "horizontal",
            "min": 0,
            "description_tooltip": null,
            "_model_module": "@jupyter-widgets/controls",
            "layout": "IPY_MODEL_8d57be12ceff460bb96fdd611bcde3fa"
          }
        },
        "08293c853cdb4ebdadd8451973f430b2": {
          "model_module": "@jupyter-widgets/controls",
          "model_name": "HTMLModel",
          "model_module_version": "1.5.0",
          "state": {
            "_view_name": "HTMLView",
            "style": "IPY_MODEL_4b5a50e2532c46aa8d4d75813fb27fb2",
            "_dom_classes": [],
            "description": "",
            "_model_name": "HTMLModel",
            "placeholder": "​",
            "_view_module": "@jupyter-widgets/controls",
            "_model_module_version": "1.5.0",
            "value": " 170499072/? [00:02&lt;00:00, 71348560.49it/s]",
            "_view_count": null,
            "_view_module_version": "1.5.0",
            "description_tooltip": null,
            "_model_module": "@jupyter-widgets/controls",
            "layout": "IPY_MODEL_3c86cc77705e46cc9e91a7f5462995e0"
          }
        },
        "d851f540b51e4f4f928bab011ab55c81": {
          "model_module": "@jupyter-widgets/controls",
          "model_name": "DescriptionStyleModel",
          "model_module_version": "1.5.0",
          "state": {
            "_view_name": "StyleView",
            "_model_name": "DescriptionStyleModel",
            "description_width": "",
            "_view_module": "@jupyter-widgets/base",
            "_model_module_version": "1.5.0",
            "_view_count": null,
            "_view_module_version": "1.2.0",
            "_model_module": "@jupyter-widgets/controls"
          }
        },
        "d0269a380d3247f0ba8ab3d9ced8394d": {
          "model_module": "@jupyter-widgets/base",
          "model_name": "LayoutModel",
          "model_module_version": "1.2.0",
          "state": {
            "_view_name": "LayoutView",
            "grid_template_rows": null,
            "right": null,
            "justify_content": null,
            "_view_module": "@jupyter-widgets/base",
            "overflow": null,
            "_model_module_version": "1.2.0",
            "_view_count": null,
            "flex_flow": null,
            "width": null,
            "min_width": null,
            "border": null,
            "align_items": null,
            "bottom": null,
            "_model_module": "@jupyter-widgets/base",
            "top": null,
            "grid_column": null,
            "overflow_y": null,
            "overflow_x": null,
            "grid_auto_flow": null,
            "grid_area": null,
            "grid_template_columns": null,
            "flex": null,
            "_model_name": "LayoutModel",
            "justify_items": null,
            "grid_row": null,
            "max_height": null,
            "align_content": null,
            "visibility": null,
            "align_self": null,
            "height": null,
            "min_height": null,
            "padding": null,
            "grid_auto_rows": null,
            "grid_gap": null,
            "max_width": null,
            "order": null,
            "_view_module_version": "1.2.0",
            "grid_template_areas": null,
            "object_position": null,
            "object_fit": null,
            "grid_auto_columns": null,
            "margin": null,
            "display": null,
            "left": null
          }
        },
        "656121b75cdc46b3a40756d6e2b54225": {
          "model_module": "@jupyter-widgets/controls",
          "model_name": "ProgressStyleModel",
          "model_module_version": "1.5.0",
          "state": {
            "_view_name": "StyleView",
            "_model_name": "ProgressStyleModel",
            "description_width": "",
            "_view_module": "@jupyter-widgets/base",
            "_model_module_version": "1.5.0",
            "_view_count": null,
            "_view_module_version": "1.2.0",
            "bar_color": null,
            "_model_module": "@jupyter-widgets/controls"
          }
        },
        "8d57be12ceff460bb96fdd611bcde3fa": {
          "model_module": "@jupyter-widgets/base",
          "model_name": "LayoutModel",
          "model_module_version": "1.2.0",
          "state": {
            "_view_name": "LayoutView",
            "grid_template_rows": null,
            "right": null,
            "justify_content": null,
            "_view_module": "@jupyter-widgets/base",
            "overflow": null,
            "_model_module_version": "1.2.0",
            "_view_count": null,
            "flex_flow": null,
            "width": null,
            "min_width": null,
            "border": null,
            "align_items": null,
            "bottom": null,
            "_model_module": "@jupyter-widgets/base",
            "top": null,
            "grid_column": null,
            "overflow_y": null,
            "overflow_x": null,
            "grid_auto_flow": null,
            "grid_area": null,
            "grid_template_columns": null,
            "flex": null,
            "_model_name": "LayoutModel",
            "justify_items": null,
            "grid_row": null,
            "max_height": null,
            "align_content": null,
            "visibility": null,
            "align_self": null,
            "height": null,
            "min_height": null,
            "padding": null,
            "grid_auto_rows": null,
            "grid_gap": null,
            "max_width": null,
            "order": null,
            "_view_module_version": "1.2.0",
            "grid_template_areas": null,
            "object_position": null,
            "object_fit": null,
            "grid_auto_columns": null,
            "margin": null,
            "display": null,
            "left": null
          }
        },
        "4b5a50e2532c46aa8d4d75813fb27fb2": {
          "model_module": "@jupyter-widgets/controls",
          "model_name": "DescriptionStyleModel",
          "model_module_version": "1.5.0",
          "state": {
            "_view_name": "StyleView",
            "_model_name": "DescriptionStyleModel",
            "description_width": "",
            "_view_module": "@jupyter-widgets/base",
            "_model_module_version": "1.5.0",
            "_view_count": null,
            "_view_module_version": "1.2.0",
            "_model_module": "@jupyter-widgets/controls"
          }
        },
        "3c86cc77705e46cc9e91a7f5462995e0": {
          "model_module": "@jupyter-widgets/base",
          "model_name": "LayoutModel",
          "model_module_version": "1.2.0",
          "state": {
            "_view_name": "LayoutView",
            "grid_template_rows": null,
            "right": null,
            "justify_content": null,
            "_view_module": "@jupyter-widgets/base",
            "overflow": null,
            "_model_module_version": "1.2.0",
            "_view_count": null,
            "flex_flow": null,
            "width": null,
            "min_width": null,
            "border": null,
            "align_items": null,
            "bottom": null,
            "_model_module": "@jupyter-widgets/base",
            "top": null,
            "grid_column": null,
            "overflow_y": null,
            "overflow_x": null,
            "grid_auto_flow": null,
            "grid_area": null,
            "grid_template_columns": null,
            "flex": null,
            "_model_name": "LayoutModel",
            "justify_items": null,
            "grid_row": null,
            "max_height": null,
            "align_content": null,
            "visibility": null,
            "align_self": null,
            "height": null,
            "min_height": null,
            "padding": null,
            "grid_auto_rows": null,
            "grid_gap": null,
            "max_width": null,
            "order": null,
            "_view_module_version": "1.2.0",
            "grid_template_areas": null,
            "object_position": null,
            "object_fit": null,
            "grid_auto_columns": null,
            "margin": null,
            "display": null,
            "left": null
          }
        },
        "9cbb225fecc0412c8c927ffa1a7e5d12": {
          "model_module": "@jupyter-widgets/controls",
          "model_name": "HBoxModel",
          "model_module_version": "1.5.0",
          "state": {
            "_view_name": "HBoxView",
            "_dom_classes": [],
            "_model_name": "HBoxModel",
            "_view_module": "@jupyter-widgets/controls",
            "_model_module_version": "1.5.0",
            "_view_count": null,
            "_view_module_version": "1.5.0",
            "box_style": "",
            "layout": "IPY_MODEL_ba760574619b4c098eda1495fc8fd2d7",
            "_model_module": "@jupyter-widgets/controls",
            "children": [
              "IPY_MODEL_476b4e7c8e744421b9da4d423e0824a4",
              "IPY_MODEL_b81c967a14ff4bc187219515fc5b0725",
              "IPY_MODEL_cee9f36f8dea4cb58520c6cc526adcca"
            ]
          }
        },
        "ba760574619b4c098eda1495fc8fd2d7": {
          "model_module": "@jupyter-widgets/base",
          "model_name": "LayoutModel",
          "model_module_version": "1.2.0",
          "state": {
            "_view_name": "LayoutView",
            "grid_template_rows": null,
            "right": null,
            "justify_content": null,
            "_view_module": "@jupyter-widgets/base",
            "overflow": null,
            "_model_module_version": "1.2.0",
            "_view_count": null,
            "flex_flow": null,
            "width": null,
            "min_width": null,
            "border": null,
            "align_items": null,
            "bottom": null,
            "_model_module": "@jupyter-widgets/base",
            "top": null,
            "grid_column": null,
            "overflow_y": null,
            "overflow_x": null,
            "grid_auto_flow": null,
            "grid_area": null,
            "grid_template_columns": null,
            "flex": null,
            "_model_name": "LayoutModel",
            "justify_items": null,
            "grid_row": null,
            "max_height": null,
            "align_content": null,
            "visibility": null,
            "align_self": null,
            "height": null,
            "min_height": null,
            "padding": null,
            "grid_auto_rows": null,
            "grid_gap": null,
            "max_width": null,
            "order": null,
            "_view_module_version": "1.2.0",
            "grid_template_areas": null,
            "object_position": null,
            "object_fit": null,
            "grid_auto_columns": null,
            "margin": null,
            "display": null,
            "left": null
          }
        },
        "476b4e7c8e744421b9da4d423e0824a4": {
          "model_module": "@jupyter-widgets/controls",
          "model_name": "HTMLModel",
          "model_module_version": "1.5.0",
          "state": {
            "_view_name": "HTMLView",
            "style": "IPY_MODEL_8f61d307806a4f858cec16b8ad2d77c0",
            "_dom_classes": [],
            "description": "",
            "_model_name": "HTMLModel",
            "placeholder": "​",
            "_view_module": "@jupyter-widgets/controls",
            "_model_module_version": "1.5.0",
            "value": "",
            "_view_count": null,
            "_view_module_version": "1.5.0",
            "description_tooltip": null,
            "_model_module": "@jupyter-widgets/controls",
            "layout": "IPY_MODEL_b1aeb9424771456b9bc4e94dccd499a0"
          }
        },
        "b81c967a14ff4bc187219515fc5b0725": {
          "model_module": "@jupyter-widgets/controls",
          "model_name": "FloatProgressModel",
          "model_module_version": "1.5.0",
          "state": {
            "_view_name": "ProgressView",
            "style": "IPY_MODEL_4efec412c11e46489113cd622ba8a562",
            "_dom_classes": [],
            "description": "",
            "_model_name": "FloatProgressModel",
            "bar_style": "success",
            "max": 170498071,
            "_view_module": "@jupyter-widgets/controls",
            "_model_module_version": "1.5.0",
            "value": 170498071,
            "_view_count": null,
            "_view_module_version": "1.5.0",
            "orientation": "horizontal",
            "min": 0,
            "description_tooltip": null,
            "_model_module": "@jupyter-widgets/controls",
            "layout": "IPY_MODEL_a146b889bfd04dc48876b71bf996d1c2"
          }
        },
        "cee9f36f8dea4cb58520c6cc526adcca": {
          "model_module": "@jupyter-widgets/controls",
          "model_name": "HTMLModel",
          "model_module_version": "1.5.0",
          "state": {
            "_view_name": "HTMLView",
            "style": "IPY_MODEL_82aa16e155724f0ca9c82a8ec192bd7c",
            "_dom_classes": [],
            "description": "",
            "_model_name": "HTMLModel",
            "placeholder": "​",
            "_view_module": "@jupyter-widgets/controls",
            "_model_module_version": "1.5.0",
            "value": " 170499072/? [00:06&lt;00:00, 32386688.25it/s]",
            "_view_count": null,
            "_view_module_version": "1.5.0",
            "description_tooltip": null,
            "_model_module": "@jupyter-widgets/controls",
            "layout": "IPY_MODEL_342c779be2324c44ab17540d1cf7143d"
          }
        },
        "8f61d307806a4f858cec16b8ad2d77c0": {
          "model_module": "@jupyter-widgets/controls",
          "model_name": "DescriptionStyleModel",
          "model_module_version": "1.5.0",
          "state": {
            "_view_name": "StyleView",
            "_model_name": "DescriptionStyleModel",
            "description_width": "",
            "_view_module": "@jupyter-widgets/base",
            "_model_module_version": "1.5.0",
            "_view_count": null,
            "_view_module_version": "1.2.0",
            "_model_module": "@jupyter-widgets/controls"
          }
        },
        "b1aeb9424771456b9bc4e94dccd499a0": {
          "model_module": "@jupyter-widgets/base",
          "model_name": "LayoutModel",
          "model_module_version": "1.2.0",
          "state": {
            "_view_name": "LayoutView",
            "grid_template_rows": null,
            "right": null,
            "justify_content": null,
            "_view_module": "@jupyter-widgets/base",
            "overflow": null,
            "_model_module_version": "1.2.0",
            "_view_count": null,
            "flex_flow": null,
            "width": null,
            "min_width": null,
            "border": null,
            "align_items": null,
            "bottom": null,
            "_model_module": "@jupyter-widgets/base",
            "top": null,
            "grid_column": null,
            "overflow_y": null,
            "overflow_x": null,
            "grid_auto_flow": null,
            "grid_area": null,
            "grid_template_columns": null,
            "flex": null,
            "_model_name": "LayoutModel",
            "justify_items": null,
            "grid_row": null,
            "max_height": null,
            "align_content": null,
            "visibility": null,
            "align_self": null,
            "height": null,
            "min_height": null,
            "padding": null,
            "grid_auto_rows": null,
            "grid_gap": null,
            "max_width": null,
            "order": null,
            "_view_module_version": "1.2.0",
            "grid_template_areas": null,
            "object_position": null,
            "object_fit": null,
            "grid_auto_columns": null,
            "margin": null,
            "display": null,
            "left": null
          }
        },
        "4efec412c11e46489113cd622ba8a562": {
          "model_module": "@jupyter-widgets/controls",
          "model_name": "ProgressStyleModel",
          "model_module_version": "1.5.0",
          "state": {
            "_view_name": "StyleView",
            "_model_name": "ProgressStyleModel",
            "description_width": "",
            "_view_module": "@jupyter-widgets/base",
            "_model_module_version": "1.5.0",
            "_view_count": null,
            "_view_module_version": "1.2.0",
            "bar_color": null,
            "_model_module": "@jupyter-widgets/controls"
          }
        },
        "a146b889bfd04dc48876b71bf996d1c2": {
          "model_module": "@jupyter-widgets/base",
          "model_name": "LayoutModel",
          "model_module_version": "1.2.0",
          "state": {
            "_view_name": "LayoutView",
            "grid_template_rows": null,
            "right": null,
            "justify_content": null,
            "_view_module": "@jupyter-widgets/base",
            "overflow": null,
            "_model_module_version": "1.2.0",
            "_view_count": null,
            "flex_flow": null,
            "width": null,
            "min_width": null,
            "border": null,
            "align_items": null,
            "bottom": null,
            "_model_module": "@jupyter-widgets/base",
            "top": null,
            "grid_column": null,
            "overflow_y": null,
            "overflow_x": null,
            "grid_auto_flow": null,
            "grid_area": null,
            "grid_template_columns": null,
            "flex": null,
            "_model_name": "LayoutModel",
            "justify_items": null,
            "grid_row": null,
            "max_height": null,
            "align_content": null,
            "visibility": null,
            "align_self": null,
            "height": null,
            "min_height": null,
            "padding": null,
            "grid_auto_rows": null,
            "grid_gap": null,
            "max_width": null,
            "order": null,
            "_view_module_version": "1.2.0",
            "grid_template_areas": null,
            "object_position": null,
            "object_fit": null,
            "grid_auto_columns": null,
            "margin": null,
            "display": null,
            "left": null
          }
        },
        "82aa16e155724f0ca9c82a8ec192bd7c": {
          "model_module": "@jupyter-widgets/controls",
          "model_name": "DescriptionStyleModel",
          "model_module_version": "1.5.0",
          "state": {
            "_view_name": "StyleView",
            "_model_name": "DescriptionStyleModel",
            "description_width": "",
            "_view_module": "@jupyter-widgets/base",
            "_model_module_version": "1.5.0",
            "_view_count": null,
            "_view_module_version": "1.2.0",
            "_model_module": "@jupyter-widgets/controls"
          }
        },
        "342c779be2324c44ab17540d1cf7143d": {
          "model_module": "@jupyter-widgets/base",
          "model_name": "LayoutModel",
          "model_module_version": "1.2.0",
          "state": {
            "_view_name": "LayoutView",
            "grid_template_rows": null,
            "right": null,
            "justify_content": null,
            "_view_module": "@jupyter-widgets/base",
            "overflow": null,
            "_model_module_version": "1.2.0",
            "_view_count": null,
            "flex_flow": null,
            "width": null,
            "min_width": null,
            "border": null,
            "align_items": null,
            "bottom": null,
            "_model_module": "@jupyter-widgets/base",
            "top": null,
            "grid_column": null,
            "overflow_y": null,
            "overflow_x": null,
            "grid_auto_flow": null,
            "grid_area": null,
            "grid_template_columns": null,
            "flex": null,
            "_model_name": "LayoutModel",
            "justify_items": null,
            "grid_row": null,
            "max_height": null,
            "align_content": null,
            "visibility": null,
            "align_self": null,
            "height": null,
            "min_height": null,
            "padding": null,
            "grid_auto_rows": null,
            "grid_gap": null,
            "max_width": null,
            "order": null,
            "_view_module_version": "1.2.0",
            "grid_template_areas": null,
            "object_position": null,
            "object_fit": null,
            "grid_auto_columns": null,
            "margin": null,
            "display": null,
            "left": null
          }
        }
      }
    }
  },
  "nbformat": 4,
  "nbformat_minor": 0
}